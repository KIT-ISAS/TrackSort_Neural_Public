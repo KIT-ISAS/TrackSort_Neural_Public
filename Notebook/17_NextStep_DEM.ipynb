{
  "nbformat": 4,
  "nbformat_minor": 0,
  "metadata": {
    "colab": {
      "name": "DEM_Dataset.ipynb",
      "provenance": [],
      "collapsed_sections": []
    },
    "kernelspec": {
      "name": "python3",
      "display_name": "Python 3"
    },
    "accelerator": "GPU"
  },
  "cells": [
    {
      "cell_type": "code",
      "metadata": {
        "id": "2RY7T1jye8W8",
        "colab_type": "code",
        "colab": {
          "base_uri": "https://localhost:8080/",
          "height": 35
        },
        "outputId": "9ac85745-2514-46dc-f2ad-6b6e9a438dd1"
      },
      "source": [
        "try:\n",
        "  # %tensorflow_version only exists in Colab.\n",
        "  %tensorflow_version 2.x\n",
        "except Exception:\n",
        "    pass\n",
        "\n",
        "# matplotlib rendering\n",
        "%matplotlib inline\n",
        "\n",
        "import sys\n",
        "sys.path.append(\"../\") # go to parent dir -> for module loading"
      ],
      "execution_count": 1,
      "outputs": [
        {
          "output_type": "stream",
          "text": [
            "TensorFlow 2.x selected.\n"
          ],
          "name": "stdout"
        }
      ]
    },
    {
      "cell_type": "code",
      "metadata": {
        "id": "-FbjiyvrfC88",
        "colab_type": "code",
        "colab": {
          "base_uri": "https://localhost:8080/",
          "height": 53
        },
        "outputId": "ebe6469a-8c13-4d6e-f33f-83d086c9634a"
      },
      "source": [
        "import numpy as np\n",
        "import tensorflow as tf\n",
        "import matplotlib.pyplot as plt\n",
        "\n",
        "from tensorflow.keras import backend as K\n",
        "\n",
        "# custom modules\n",
        "import data_manager\n",
        "import model\n",
        "\n",
        "print('Tensorflow version:', tf.__version__)\n",
        "print('GPU support:', tf.test.is_gpu_available())\n",
        "\n",
        "# set all keras layers to use float64\n",
        "tf.keras.backend.set_floatx('float64')"
      ],
      "execution_count": 20,
      "outputs": [
        {
          "output_type": "stream",
          "text": [
            "Tensorflow version: 2.1.0-rc1\n",
            "GPU support: True\n"
          ],
          "name": "stdout"
        }
      ]
    },
    {
      "cell_type": "code",
      "metadata": {
        "colab_type": "code",
        "outputId": "3fcd5a5a-7105-4006-fdcd-567362a2ac18",
        "id": "44ZuOlJZjXzN",
        "colab": {
          "base_uri": "https://localhost:8080/",
          "height": 322
        }
      },
      "source": [
        "!wget pollithy.com/DEM_Cylinder_115.zip\n",
        "!unzip DEM_Cylinder_115.zip"
      ],
      "execution_count": 3,
      "outputs": [
        {
          "output_type": "stream",
          "text": [
            "--2020-01-26 10:23:57--  http://pollithy.com/DEM_Cylinder_115.zip\n",
            "Resolving pollithy.com (pollithy.com)... 87.118.94.85\n",
            "Connecting to pollithy.com (pollithy.com)|87.118.94.85|:80... connected.\n",
            "HTTP request sent, awaiting response... 301 Moved Permanently\n",
            "Location: https://pollithy.com/DEM_Cylinder_115.zip [following]\n",
            "--2020-01-26 10:23:58--  https://pollithy.com/DEM_Cylinder_115.zip\n",
            "Connecting to pollithy.com (pollithy.com)|87.118.94.85|:443... connected.\n",
            "HTTP request sent, awaiting response... 200 OK\n",
            "Length: 2684430 (2.6M) [application/zip]\n",
            "Saving to: ‘DEM_Cylinder_115.zip’\n",
            "\n",
            "DEM_Cylinder_115.zi 100%[===================>]   2.56M  1.32MB/s    in 1.9s    \n",
            "\n",
            "2020-01-26 10:24:01 (1.32 MB/s) - ‘DEM_Cylinder_115.zip’ saved [2684430/2684430]\n",
            "\n",
            "Archive:  DEM_Cylinder_115.zip\n",
            "  inflating: DEM_cylinder.csv        \n"
          ],
          "name": "stdout"
        }
      ]
    },
    {
      "cell_type": "code",
      "metadata": {
        "id": "efX_IG1bfPCM",
        "colab_type": "code",
        "colab": {
          "base_uri": "https://localhost:8080/",
          "height": 367
        },
        "outputId": "076d6713-8cc2-4eb9-e300-f6e45b71adc4"
      },
      "source": [
        "nan_value = 0\n",
        "batch_size = 64\n",
        "\n",
        "csv_data_set = data_manager.CsvDataSet('DEM_cylinder.csv',\n",
        "                                       nan_value=nan_value, \n",
        "                                       batch_size=batch_size, \n",
        "                                       data_is_aligned=False,\n",
        "                                       rotate_columns=True,\n",
        "                                       normalization_constant=1)\n",
        "\n",
        "csv_data_set.plot_random_tracks(n=15)"
      ],
      "execution_count": 4,
      "outputs": [
        {
          "output_type": "stream",
          "text": [
            "timesteps=1999\n",
            "longest_track=49\n",
            "align data\n",
            "longest_track= 49\n"
          ],
          "name": "stdout"
        },
        {
          "output_type": "display_data",
          "data": {
            "image/png": "[encoded data removed]",
            "text/plain": [
              "<Figure size 432x288 with 1 Axes>"
            ]
          },
          "metadata": {
            "tags": []
          }
        }
      ]
    },
    {
      "cell_type": "code",
      "metadata": {
        "id": "RaJO57RRvg9m",
        "colab_type": "code",
        "colab": {}
      },
      "source": [
        "dataset_train, dataset_test = csv_data_set.get_tf_data_sets_seq2seq_data(normalized=True)"
      ],
      "execution_count": 0,
      "outputs": []
    },
    {
      "cell_type": "code",
      "metadata": {
        "id": "2tE_ja2TgRS8",
        "colab_type": "code",
        "colab": {
          "base_uri": "https://localhost:8080/",
          "height": 280
        },
        "outputId": "a3b4028b-69b9-4de0-c57d-51cac46be602"
      },
      "source": [
        "csv_data_set.plot_random_tracks(n=15, fit_scale_to_content=True)"
      ],
      "execution_count": 7,
      "outputs": [
        {
          "output_type": "display_data",
          "data": {
            "image/png": "[encoded data removed]",
            "text/plain": [
              "<Figure size 432x288 with 1 Axes>"
            ]
          },
          "metadata": {
            "tags": []
          }
        }
      ]
    },
    {
      "cell_type": "code",
      "metadata": {
        "id": "0dFqvUydu8Oh",
        "colab_type": "code",
        "colab": {
          "base_uri": "https://localhost:8080/",
          "height": 1000
        },
        "outputId": "1db4a9ec-59d8-441a-88aa-6ae86832fd90"
      },
      "source": [
        "rnn_model, hash_ = model.rnn_model_factory(\n",
        "        num_units_first_rnn=1024, \n",
        "        num_units_second_rnn=16,\n",
        "        num_units_first_dense=0,\n",
        "        rnn_model_name='lstm',\n",
        "        num_time_steps=csv_data_set.longest_track, \n",
        "        batch_size=batch_size,\n",
        "        nan_value=nan_value, \n",
        "        input_dim=2)\n",
        "print(rnn_model.summary())\n",
        "\n",
        "optimizer = tf.keras.optimizers.Adam()\n",
        "train_step_fn = model.train_step_generator(rnn_model, optimizer)\n",
        "\n",
        "total_num_epochs = 1000\n",
        "\n",
        "for epoch in range(total_num_epochs):\n",
        "  if (epoch+1) % 80 == 0:\n",
        "      old_lr = K.get_value(optimizer.lr)\n",
        "      new_lr = old_lr * 0.1\n",
        "      print(\"Reducing learning rate from {} to {}.\".format(old_lr, new_lr))\n",
        "      K.set_value(optimizer.lr, new_lr)\n",
        "\n",
        "  for (batch_n, (inp, target)) in enumerate(dataset_train):\n",
        "      _ = rnn_model.reset_states()\n",
        "      loss = train_step_fn(inp, target)\n",
        "\n",
        "  print(\"{}/{}: \\t loss={}\".format(epoch, total_num_epochs, loss))\n"
      ],
      "execution_count": 24,
      "outputs": [
        {
          "output_type": "stream",
          "text": [
            "Model: \"sequential\"\n",
            "_________________________________________________________________\n",
            "Layer (type)                 Output Shape              Param #   \n",
            "=================================================================\n",
            "masking_layer (Masking)      (64, 49, 2)               0         \n",
            "_________________________________________________________________\n",
            "rnn-0 (LSTM)                 (64, 49, 1024)            4206592   \n",
            "_________________________________________________________________\n",
            "rnn-1 (LSTM)                 (64, 49, 16)              66624     \n",
            "_________________________________________________________________\n",
            "dense (Dense)                (64, 49, 2)               34        \n",
            "=================================================================\n",
            "Total params: 4,273,250\n",
            "Trainable params: 4,273,250\n",
            "Non-trainable params: 0\n",
            "_________________________________________________________________\n",
            "None\n",
            "0/1000: \t loss=0.004062928777731178\n",
            "1/1000: \t loss=0.0023201383241764064\n",
            "2/1000: \t loss=0.0016108980638174866\n",
            "3/1000: \t loss=0.0012159832551724328\n",
            "4/1000: \t loss=0.0009863285336599212\n",
            "5/1000: \t loss=0.0007391904270019741\n",
            "6/1000: \t loss=0.0005705861271932091\n",
            "7/1000: \t loss=0.0004747239981325102\n",
            "8/1000: \t loss=0.00040306825147758634\n",
            "9/1000: \t loss=0.0003094606579464471\n",
            "10/1000: \t loss=0.0002706941845893814\n",
            "11/1000: \t loss=0.0002122253343019933\n",
            "12/1000: \t loss=0.00019999109933097612\n",
            "13/1000: \t loss=0.00013818504038473088\n",
            "14/1000: \t loss=0.00010731794228935986\n",
            "15/1000: \t loss=8.64081379838141e-05\n",
            "16/1000: \t loss=7.368135963009431e-05\n",
            "17/1000: \t loss=5.9747619139609585e-05\n",
            "18/1000: \t loss=0.0001170777534101663\n",
            "19/1000: \t loss=4.908325997351195e-05\n",
            "20/1000: \t loss=5.374458849804031e-05\n",
            "21/1000: \t loss=4.1618336810602026e-05\n",
            "22/1000: \t loss=7.558747745794093e-05\n",
            "23/1000: \t loss=3.568769127156437e-05\n",
            "24/1000: \t loss=2.8398653932903407e-05\n",
            "25/1000: \t loss=5.05924230013659e-05\n",
            "26/1000: \t loss=4.893228227770657e-05\n",
            "27/1000: \t loss=3.106052977055352e-05\n",
            "28/1000: \t loss=2.8370710698093998e-05\n",
            "29/1000: \t loss=4.287825532683244e-05\n",
            "30/1000: \t loss=2.6059931668095657e-05\n",
            "31/1000: \t loss=3.860416183755276e-05\n",
            "32/1000: \t loss=2.947977807580015e-05\n",
            "33/1000: \t loss=2.9343350332951546e-05\n",
            "34/1000: \t loss=2.0861932756816114e-05\n",
            "35/1000: \t loss=2.038877024478769e-05\n",
            "36/1000: \t loss=1.8799128372154924e-05\n",
            "37/1000: \t loss=1.9405695363768517e-05\n",
            "38/1000: \t loss=2.048105356805815e-05\n",
            "39/1000: \t loss=2.5092883915300647e-05\n",
            "40/1000: \t loss=1.4694492830361204e-05\n",
            "41/1000: \t loss=2.16633836356876e-05\n",
            "42/1000: \t loss=2.0825853856368485e-05\n",
            "43/1000: \t loss=2.0807395747908395e-05\n",
            "44/1000: \t loss=1.605763585280855e-05\n",
            "45/1000: \t loss=1.483224771960851e-05\n",
            "46/1000: \t loss=1.4854413293153844e-05\n",
            "47/1000: \t loss=1.7483912636580273e-05\n",
            "48/1000: \t loss=1.7925500781017418e-05\n",
            "49/1000: \t loss=1.647785195003946e-05\n",
            "50/1000: \t loss=1.5814260024984415e-05\n",
            "51/1000: \t loss=5.9749182135171555e-05\n",
            "52/1000: \t loss=1.1257345105518055e-05\n",
            "53/1000: \t loss=1.148863695500599e-05\n",
            "54/1000: \t loss=1.1341573456399491e-05\n",
            "55/1000: \t loss=1.4275771935504184e-05\n",
            "56/1000: \t loss=1.167032475271754e-05\n",
            "57/1000: \t loss=1.8399595431279177e-05\n",
            "58/1000: \t loss=1.2430611725446019e-05\n",
            "59/1000: \t loss=9.978102552200708e-06\n",
            "60/1000: \t loss=1.7415413399301152e-05\n",
            "61/1000: \t loss=3.952661756191556e-05\n",
            "62/1000: \t loss=7.084597221387265e-06\n",
            "63/1000: \t loss=8.40671231061483e-06\n",
            "64/1000: \t loss=1.4192254457247937e-05\n",
            "65/1000: \t loss=1.3325236601976618e-05\n",
            "66/1000: \t loss=7.769510409872848e-06\n",
            "67/1000: \t loss=8.539232555951658e-06\n",
            "68/1000: \t loss=1.0742526077335601e-05\n",
            "69/1000: \t loss=8.972970252603148e-06\n",
            "70/1000: \t loss=1.1515943669012895e-05\n",
            "71/1000: \t loss=2.3036751753148387e-05\n",
            "72/1000: \t loss=2.0004725283924502e-05\n",
            "73/1000: \t loss=1.0203463327546763e-05\n",
            "74/1000: \t loss=6.588799881676177e-06\n",
            "75/1000: \t loss=5.389166678388098e-06\n",
            "76/1000: \t loss=5.351831290468343e-06\n",
            "77/1000: \t loss=5.1379662151540115e-06\n",
            "78/1000: \t loss=1.3083387596148899e-05\n",
            "Reducing learning rate from 0.0010000000474974513 to 0.00010000000474974513.\n",
            "79/1000: \t loss=2.016325077140491e-06\n",
            "80/1000: \t loss=2.2467358660587594e-06\n",
            "81/1000: \t loss=1.889783315648609e-06\n",
            "82/1000: \t loss=2.2893236914989383e-06\n",
            "83/1000: \t loss=3.4059315122915833e-06\n",
            "84/1000: \t loss=1.8507235229570506e-06\n",
            "85/1000: \t loss=1.9395853338833072e-06\n",
            "86/1000: \t loss=2.6207799954201317e-06\n",
            "87/1000: \t loss=1.9763769372103114e-06\n",
            "88/1000: \t loss=1.8488761001721394e-06\n",
            "89/1000: \t loss=1.692786490426676e-06\n",
            "90/1000: \t loss=2.063750316926687e-06\n",
            "91/1000: \t loss=1.4856077723280906e-06\n",
            "92/1000: \t loss=1.5571171687091139e-06\n",
            "93/1000: \t loss=1.497013118652729e-06\n",
            "94/1000: \t loss=1.769286433299532e-06\n",
            "95/1000: \t loss=1.6927716814588282e-06\n",
            "96/1000: \t loss=2.0125035086869092e-06\n",
            "97/1000: \t loss=1.2487096736860072e-06\n",
            "98/1000: \t loss=1.3396221713651471e-06\n",
            "99/1000: \t loss=1.7928027653325597e-06\n",
            "100/1000: \t loss=1.4038053622431433e-06\n",
            "101/1000: \t loss=1.416292121224541e-06\n",
            "102/1000: \t loss=1.3071549437528589e-06\n",
            "103/1000: \t loss=1.2584429520384649e-06\n",
            "104/1000: \t loss=1.2725874368540947e-06\n",
            "105/1000: \t loss=1.485509757784504e-06\n",
            "106/1000: \t loss=1.1890421777180889e-06\n",
            "107/1000: \t loss=1.0818021426474084e-06\n",
            "108/1000: \t loss=8.993347376478787e-07\n",
            "109/1000: \t loss=1.989665077889112e-06\n",
            "110/1000: \t loss=1.2093946990127493e-06\n",
            "111/1000: \t loss=1.038321364699112e-06\n",
            "112/1000: \t loss=1.5800345345690865e-06\n",
            "113/1000: \t loss=1.087058661864767e-06\n",
            "114/1000: \t loss=1.052527232727655e-06\n",
            "115/1000: \t loss=8.964531162651783e-07\n",
            "116/1000: \t loss=8.35514682835027e-07\n",
            "117/1000: \t loss=1.5903667716163752e-06\n",
            "118/1000: \t loss=7.091078806680294e-07\n",
            "119/1000: \t loss=9.165657469922854e-07\n",
            "120/1000: \t loss=7.6203978292021e-07\n",
            "121/1000: \t loss=9.947471361589153e-07\n",
            "122/1000: \t loss=8.337552496073575e-07\n",
            "123/1000: \t loss=9.067235921834672e-07\n",
            "124/1000: \t loss=7.452120241008588e-07\n",
            "125/1000: \t loss=6.847382506379304e-07\n",
            "126/1000: \t loss=6.331884773619016e-07\n",
            "127/1000: \t loss=6.316511128107273e-07\n",
            "128/1000: \t loss=6.574482021949629e-07\n",
            "129/1000: \t loss=6.474238309587452e-07\n",
            "130/1000: \t loss=6.211086736938904e-07\n",
            "131/1000: \t loss=5.81780566536567e-07\n",
            "132/1000: \t loss=6.32550133628321e-07\n",
            "133/1000: \t loss=1.642644696527966e-06\n",
            "134/1000: \t loss=6.9763861004878e-07\n",
            "135/1000: \t loss=6.490163453507368e-07\n",
            "136/1000: \t loss=9.233408586261001e-07\n",
            "137/1000: \t loss=6.797595457119149e-07\n",
            "138/1000: \t loss=4.6954119488374277e-07\n",
            "139/1000: \t loss=5.478035853830086e-07\n",
            "140/1000: \t loss=9.559019495558251e-07\n",
            "141/1000: \t loss=5.559634268527579e-07\n",
            "142/1000: \t loss=5.898818404675868e-07\n",
            "143/1000: \t loss=5.087834330495625e-07\n",
            "144/1000: \t loss=6.870993813314951e-07\n",
            "145/1000: \t loss=9.897624031065594e-07\n",
            "146/1000: \t loss=5.334913014240322e-07\n",
            "147/1000: \t loss=6.559549556402927e-07\n",
            "148/1000: \t loss=4.588963769863954e-07\n",
            "149/1000: \t loss=6.496031795284588e-07\n",
            "150/1000: \t loss=5.132319650658736e-07\n",
            "151/1000: \t loss=3.977226646319633e-07\n",
            "152/1000: \t loss=9.801789375331283e-07\n",
            "153/1000: \t loss=4.756095055568082e-07\n",
            "154/1000: \t loss=5.920502216884179e-07\n",
            "155/1000: \t loss=4.6808969835252815e-07\n",
            "156/1000: \t loss=1.8699081747975138e-06\n",
            "157/1000: \t loss=4.744276700997358e-07\n",
            "158/1000: \t loss=4.817812854167857e-07\n",
            "Reducing learning rate from 0.00010000000474974513 to 1.0000000474974514e-05.\n",
            "159/1000: \t loss=3.720304604564763e-07\n",
            "160/1000: \t loss=3.9443511141613466e-07\n",
            "161/1000: \t loss=7.114902201657231e-07\n",
            "162/1000: \t loss=4.3974086490858874e-07\n",
            "163/1000: \t loss=3.8184227745452247e-07\n",
            "164/1000: \t loss=4.4548838697691075e-07\n",
            "165/1000: \t loss=4.7602300486252104e-07\n",
            "166/1000: \t loss=4.16256795046529e-07\n",
            "167/1000: \t loss=4.2736707600194646e-07\n",
            "168/1000: \t loss=4.528899669346731e-07\n",
            "169/1000: \t loss=4.474198375655297e-07\n",
            "170/1000: \t loss=4.937689336911839e-07\n",
            "171/1000: \t loss=4.898471870508907e-07\n",
            "172/1000: \t loss=3.9224191389318065e-07\n",
            "173/1000: \t loss=3.771043414051477e-07\n",
            "174/1000: \t loss=6.670255472127756e-07\n",
            "175/1000: \t loss=5.36545775664022e-07\n",
            "176/1000: \t loss=4.2246113695131284e-07\n",
            "177/1000: \t loss=3.17847725500581e-07\n",
            "178/1000: \t loss=3.4313645157393224e-07\n",
            "179/1000: \t loss=3.2158648386924947e-07\n",
            "180/1000: \t loss=3.532581471905549e-07\n",
            "181/1000: \t loss=4.6941861083686005e-07\n",
            "182/1000: \t loss=3.8061559930415794e-07\n",
            "183/1000: \t loss=4.0036286671342953e-07\n",
            "184/1000: \t loss=3.670800650567935e-07\n",
            "185/1000: \t loss=3.7451464277320157e-07\n",
            "186/1000: \t loss=3.7149185584288736e-07\n",
            "187/1000: \t loss=3.925986281798878e-07\n",
            "188/1000: \t loss=5.324373391003953e-07\n",
            "189/1000: \t loss=2.757290745662729e-07\n",
            "190/1000: \t loss=4.3138354825513315e-07\n",
            "191/1000: \t loss=3.5636105298711536e-07\n",
            "192/1000: \t loss=5.368296460206198e-07\n",
            "193/1000: \t loss=4.046523527876967e-07\n",
            "194/1000: \t loss=4.242352702386557e-07\n",
            "195/1000: \t loss=3.5815152580876314e-07\n",
            "196/1000: \t loss=3.6579997930976417e-07\n",
            "197/1000: \t loss=4.0793206459556787e-07\n",
            "198/1000: \t loss=3.470952502561364e-07\n",
            "199/1000: \t loss=4.3520742730266274e-07\n",
            "200/1000: \t loss=4.738039631169163e-07\n",
            "201/1000: \t loss=3.5090247509930427e-07\n",
            "202/1000: \t loss=4.080429789658672e-07\n",
            "203/1000: \t loss=3.8487761024885934e-07\n",
            "204/1000: \t loss=3.6492114411526206e-07\n",
            "205/1000: \t loss=3.6557982525620314e-07\n",
            "206/1000: \t loss=3.217245325782619e-07\n",
            "207/1000: \t loss=3.011397547627353e-07\n",
            "208/1000: \t loss=4.161807955735167e-07\n",
            "209/1000: \t loss=7.67879923271549e-07\n",
            "210/1000: \t loss=4.2751395782925775e-07\n",
            "211/1000: \t loss=3.89996985773753e-07\n",
            "212/1000: \t loss=4.0694923124736024e-07\n",
            "213/1000: \t loss=5.13244516998693e-07\n",
            "214/1000: \t loss=3.3929075996077234e-07\n",
            "215/1000: \t loss=4.2975192756413103e-07\n",
            "216/1000: \t loss=3.3477975267207187e-07\n",
            "217/1000: \t loss=4.6069839890407464e-07\n",
            "218/1000: \t loss=7.182536241480156e-07\n",
            "219/1000: \t loss=3.790470870288813e-07\n",
            "220/1000: \t loss=4.826309716539416e-07\n",
            "221/1000: \t loss=3.0844949250651225e-07\n",
            "222/1000: \t loss=4.7675418891952984e-07\n",
            "223/1000: \t loss=7.118311748144931e-07\n",
            "224/1000: \t loss=3.8921042119677557e-07\n",
            "225/1000: \t loss=4.216148134506847e-07\n",
            "226/1000: \t loss=3.806566897988474e-07\n",
            "227/1000: \t loss=4.1888489757285397e-07\n",
            "228/1000: \t loss=4.03973774529824e-07\n",
            "229/1000: \t loss=2.9619981704248923e-07\n",
            "230/1000: \t loss=3.989383222277769e-07\n",
            "231/1000: \t loss=4.0003684345552146e-07\n",
            "232/1000: \t loss=3.712692337872308e-07\n",
            "233/1000: \t loss=4.013277662550272e-07\n",
            "234/1000: \t loss=3.3552869138789467e-07\n",
            "235/1000: \t loss=3.5406693823881295e-07\n",
            "236/1000: \t loss=4.382624371800008e-07\n",
            "237/1000: \t loss=3.835884922980518e-07\n",
            "238/1000: \t loss=3.5292911253686794e-07\n",
            "Reducing learning rate from 1.0000000656873453e-05 to 1.0000000656873453e-06.\n",
            "239/1000: \t loss=7.346848444748471e-07\n",
            "240/1000: \t loss=4.7141312457802117e-07\n",
            "241/1000: \t loss=3.1306312422718067e-07\n",
            "242/1000: \t loss=3.371674347857192e-07\n",
            "243/1000: \t loss=3.5963586301388794e-07\n",
            "244/1000: \t loss=3.964734639725058e-07\n",
            "245/1000: \t loss=3.2359853956132615e-07\n",
            "246/1000: \t loss=4.114902503840124e-07\n",
            "247/1000: \t loss=3.2576129863377623e-07\n",
            "248/1000: \t loss=3.365020689516333e-07\n",
            "249/1000: \t loss=3.606163340600907e-07\n",
            "250/1000: \t loss=3.745805511133629e-07\n",
            "251/1000: \t loss=3.1827607026676493e-07\n",
            "252/1000: \t loss=4.4953549152505337e-07\n",
            "253/1000: \t loss=3.200684570527128e-07\n",
            "254/1000: \t loss=3.6443169701968796e-07\n",
            "255/1000: \t loss=3.4156426567230605e-07\n",
            "256/1000: \t loss=3.7196722417463543e-07\n",
            "257/1000: \t loss=3.2655231597384765e-07\n",
            "258/1000: \t loss=4.379147944920426e-07\n",
            "259/1000: \t loss=4.2178049042622384e-07\n",
            "260/1000: \t loss=3.018477427638819e-07\n",
            "261/1000: \t loss=3.583884586557964e-07\n",
            "262/1000: \t loss=7.226647763328952e-07\n",
            "263/1000: \t loss=3.522443658739277e-07\n",
            "264/1000: \t loss=3.260596046863857e-07\n",
            "265/1000: \t loss=2.881820750819044e-07\n",
            "266/1000: \t loss=3.176242962033119e-07\n",
            "267/1000: \t loss=3.543777883096992e-07\n",
            "268/1000: \t loss=4.93333927031633e-07\n",
            "269/1000: \t loss=3.31536720613621e-07\n",
            "270/1000: \t loss=3.584948233210162e-07\n",
            "271/1000: \t loss=3.4209176540203854e-07\n",
            "272/1000: \t loss=5.136601946413047e-07\n",
            "273/1000: \t loss=3.3598548554069476e-07\n",
            "274/1000: \t loss=3.2990636552070336e-07\n",
            "275/1000: \t loss=8.590311583229998e-07\n",
            "276/1000: \t loss=2.976939864125656e-07\n",
            "277/1000: \t loss=8.004645064778283e-07\n",
            "278/1000: \t loss=3.166685319189894e-07\n",
            "279/1000: \t loss=3.468609975294499e-07\n",
            "280/1000: \t loss=3.4096946635798644e-07\n",
            "281/1000: \t loss=2.856722303314629e-07\n",
            "282/1000: \t loss=3.449954831011444e-07\n",
            "283/1000: \t loss=5.56987181294697e-07\n",
            "284/1000: \t loss=3.217319937091455e-07\n",
            "285/1000: \t loss=2.984899872127741e-07\n",
            "286/1000: \t loss=3.476704609190754e-07\n",
            "287/1000: \t loss=3.5131177779049517e-07\n",
            "288/1000: \t loss=5.097962740201793e-07\n",
            "289/1000: \t loss=4.980687086170715e-07\n",
            "290/1000: \t loss=6.338466251964418e-07\n",
            "291/1000: \t loss=3.5660220499441404e-07\n"
          ],
          "name": "stdout"
        },
        {
          "output_type": "error",
          "ename": "KeyboardInterrupt",
          "evalue": "ignored",
          "traceback": [
            "\u001b[0;31m---------------------------------------------------------------------------\u001b[0m",
            "\u001b[0;31mKeyboardInterrupt\u001b[0m                         Traceback (most recent call last)",
            "\u001b[0;32m<ipython-input-24-35ec59c4ed5c>\u001b[0m in \u001b[0;36m<module>\u001b[0;34m()\u001b[0m\n\u001b[1;32m     23\u001b[0m \u001b[0;34m\u001b[0m\u001b[0m\n\u001b[1;32m     24\u001b[0m   \u001b[0;32mfor\u001b[0m \u001b[0;34m(\u001b[0m\u001b[0mbatch_n\u001b[0m\u001b[0;34m,\u001b[0m \u001b[0;34m(\u001b[0m\u001b[0minp\u001b[0m\u001b[0;34m,\u001b[0m \u001b[0mtarget\u001b[0m\u001b[0;34m)\u001b[0m\u001b[0;34m)\u001b[0m \u001b[0;32min\u001b[0m \u001b[0menumerate\u001b[0m\u001b[0;34m(\u001b[0m\u001b[0mdataset_train\u001b[0m\u001b[0;34m)\u001b[0m\u001b[0;34m:\u001b[0m\u001b[0;34m\u001b[0m\u001b[0;34m\u001b[0m\u001b[0m\n\u001b[0;32m---> 25\u001b[0;31m       \u001b[0m_\u001b[0m \u001b[0;34m=\u001b[0m \u001b[0mrnn_model\u001b[0m\u001b[0;34m.\u001b[0m\u001b[0mreset_states\u001b[0m\u001b[0;34m(\u001b[0m\u001b[0;34m)\u001b[0m\u001b[0;34m\u001b[0m\u001b[0;34m\u001b[0m\u001b[0m\n\u001b[0m\u001b[1;32m     26\u001b[0m       \u001b[0mloss\u001b[0m \u001b[0;34m=\u001b[0m \u001b[0mtrain_step_fn\u001b[0m\u001b[0;34m(\u001b[0m\u001b[0minp\u001b[0m\u001b[0;34m,\u001b[0m \u001b[0mtarget\u001b[0m\u001b[0;34m)\u001b[0m\u001b[0;34m\u001b[0m\u001b[0;34m\u001b[0m\u001b[0m\n\u001b[1;32m     27\u001b[0m \u001b[0;34m\u001b[0m\u001b[0m\n",
            "\u001b[0;32m/tensorflow-2.1.0/python3.6/tensorflow_core/python/keras/engine/network.py\u001b[0m in \u001b[0;36mreset_states\u001b[0;34m(self)\u001b[0m\n\u001b[1;32m    456\u001b[0m     \u001b[0;32mfor\u001b[0m \u001b[0mlayer\u001b[0m \u001b[0;32min\u001b[0m \u001b[0mself\u001b[0m\u001b[0;34m.\u001b[0m\u001b[0mlayers\u001b[0m\u001b[0;34m:\u001b[0m\u001b[0;34m\u001b[0m\u001b[0;34m\u001b[0m\u001b[0m\n\u001b[1;32m    457\u001b[0m       \u001b[0;32mif\u001b[0m \u001b[0mhasattr\u001b[0m\u001b[0;34m(\u001b[0m\u001b[0mlayer\u001b[0m\u001b[0;34m,\u001b[0m \u001b[0;34m'reset_states'\u001b[0m\u001b[0;34m)\u001b[0m \u001b[0;32mand\u001b[0m \u001b[0mgetattr\u001b[0m\u001b[0;34m(\u001b[0m\u001b[0mlayer\u001b[0m\u001b[0;34m,\u001b[0m \u001b[0;34m'stateful'\u001b[0m\u001b[0;34m,\u001b[0m \u001b[0;32mFalse\u001b[0m\u001b[0;34m)\u001b[0m\u001b[0;34m:\u001b[0m\u001b[0;34m\u001b[0m\u001b[0;34m\u001b[0m\u001b[0m\n\u001b[0;32m--> 458\u001b[0;31m         \u001b[0mlayer\u001b[0m\u001b[0;34m.\u001b[0m\u001b[0mreset_states\u001b[0m\u001b[0;34m(\u001b[0m\u001b[0;34m)\u001b[0m\u001b[0;34m\u001b[0m\u001b[0;34m\u001b[0m\u001b[0m\n\u001b[0m\u001b[1;32m    459\u001b[0m \u001b[0;34m\u001b[0m\u001b[0m\n\u001b[1;32m    460\u001b[0m   \u001b[0;34m@\u001b[0m\u001b[0mproperty\u001b[0m\u001b[0;34m\u001b[0m\u001b[0;34m\u001b[0m\u001b[0m\n",
            "\u001b[0;32m/tensorflow-2.1.0/python3.6/tensorflow_core/python/keras/layers/recurrent.py\u001b[0m in \u001b[0;36mreset_states\u001b[0;34m(self, states)\u001b[0m\n\u001b[1;32m    911\u001b[0m                              nest.flatten(self.cell.state_size)):\n\u001b[1;32m    912\u001b[0m         K.set_value(state, np.zeros([batch_size] +\n\u001b[0;32m--> 913\u001b[0;31m                                     tensor_shape.as_shape(size).as_list()))\n\u001b[0m\u001b[1;32m    914\u001b[0m     \u001b[0;32melse\u001b[0m\u001b[0;34m:\u001b[0m\u001b[0;34m\u001b[0m\u001b[0;34m\u001b[0m\u001b[0m\n\u001b[1;32m    915\u001b[0m       \u001b[0mflat_states\u001b[0m \u001b[0;34m=\u001b[0m \u001b[0mnest\u001b[0m\u001b[0;34m.\u001b[0m\u001b[0mflatten\u001b[0m\u001b[0;34m(\u001b[0m\u001b[0mself\u001b[0m\u001b[0;34m.\u001b[0m\u001b[0mstates\u001b[0m\u001b[0;34m)\u001b[0m\u001b[0;34m\u001b[0m\u001b[0;34m\u001b[0m\u001b[0m\n",
            "\u001b[0;32m/tensorflow-2.1.0/python3.6/tensorflow_core/python/keras/backend.py\u001b[0m in \u001b[0;36mset_value\u001b[0;34m(x, value)\u001b[0m\n\u001b[1;32m   3289\u001b[0m   \u001b[0;32mif\u001b[0m \u001b[0mops\u001b[0m\u001b[0;34m.\u001b[0m\u001b[0mexecuting_eagerly_outside_functions\u001b[0m\u001b[0;34m(\u001b[0m\u001b[0;34m)\u001b[0m\u001b[0;34m:\u001b[0m\u001b[0;34m\u001b[0m\u001b[0;34m\u001b[0m\u001b[0m\n\u001b[1;32m   3290\u001b[0m     \u001b[0;32mwith\u001b[0m \u001b[0mops\u001b[0m\u001b[0;34m.\u001b[0m\u001b[0minit_scope\u001b[0m\u001b[0;34m(\u001b[0m\u001b[0;34m)\u001b[0m\u001b[0;34m:\u001b[0m\u001b[0;34m\u001b[0m\u001b[0;34m\u001b[0m\u001b[0m\n\u001b[0;32m-> 3291\u001b[0;31m       \u001b[0mx\u001b[0m\u001b[0;34m.\u001b[0m\u001b[0massign\u001b[0m\u001b[0;34m(\u001b[0m\u001b[0mvalue\u001b[0m\u001b[0;34m)\u001b[0m\u001b[0;34m\u001b[0m\u001b[0;34m\u001b[0m\u001b[0m\n\u001b[0m\u001b[1;32m   3292\u001b[0m   \u001b[0;32melse\u001b[0m\u001b[0;34m:\u001b[0m\u001b[0;34m\u001b[0m\u001b[0;34m\u001b[0m\u001b[0m\n\u001b[1;32m   3293\u001b[0m     \u001b[0;32mwith\u001b[0m \u001b[0mget_graph\u001b[0m\u001b[0;34m(\u001b[0m\u001b[0;34m)\u001b[0m\u001b[0;34m.\u001b[0m\u001b[0mas_default\u001b[0m\u001b[0;34m(\u001b[0m\u001b[0;34m)\u001b[0m\u001b[0;34m:\u001b[0m\u001b[0;34m\u001b[0m\u001b[0;34m\u001b[0m\u001b[0m\n",
            "\u001b[0;32m/tensorflow-2.1.0/python3.6/tensorflow_core/python/ops/resource_variable_ops.py\u001b[0m in \u001b[0;36massign\u001b[0;34m(self, value, use_locking, name, read_value)\u001b[0m\n\u001b[1;32m    819\u001b[0m       \u001b[0mself\u001b[0m\u001b[0;34m.\u001b[0m\u001b[0m_shape\u001b[0m\u001b[0;34m.\u001b[0m\u001b[0massert_is_compatible_with\u001b[0m\u001b[0;34m(\u001b[0m\u001b[0mvalue_tensor\u001b[0m\u001b[0;34m.\u001b[0m\u001b[0mshape\u001b[0m\u001b[0;34m)\u001b[0m\u001b[0;34m\u001b[0m\u001b[0;34m\u001b[0m\u001b[0m\n\u001b[1;32m    820\u001b[0m       assign_op = gen_resource_variable_ops.assign_variable_op(\n\u001b[0;32m--> 821\u001b[0;31m           self.handle, value_tensor, name=name)\n\u001b[0m\u001b[1;32m    822\u001b[0m       \u001b[0;32mif\u001b[0m \u001b[0mread_value\u001b[0m\u001b[0;34m:\u001b[0m\u001b[0;34m\u001b[0m\u001b[0;34m\u001b[0m\u001b[0m\n\u001b[1;32m    823\u001b[0m         \u001b[0;32mreturn\u001b[0m \u001b[0mself\u001b[0m\u001b[0;34m.\u001b[0m\u001b[0m_lazy_read\u001b[0m\u001b[0;34m(\u001b[0m\u001b[0massign_op\u001b[0m\u001b[0;34m)\u001b[0m\u001b[0;34m\u001b[0m\u001b[0;34m\u001b[0m\u001b[0m\n",
            "\u001b[0;32m/tensorflow-2.1.0/python3.6/tensorflow_core/python/ops/gen_resource_variable_ops.py\u001b[0m in \u001b[0;36massign_variable_op\u001b[0;34m(resource, value, name)\u001b[0m\n\u001b[1;32m    140\u001b[0m       _result = _pywrap_tensorflow.TFE_Py_FastPathExecute(\n\u001b[1;32m    141\u001b[0m         \u001b[0m_ctx\u001b[0m\u001b[0;34m.\u001b[0m\u001b[0m_context_handle\u001b[0m\u001b[0;34m,\u001b[0m \u001b[0mtld\u001b[0m\u001b[0;34m.\u001b[0m\u001b[0mdevice_name\u001b[0m\u001b[0;34m,\u001b[0m \u001b[0;34m\"AssignVariableOp\"\u001b[0m\u001b[0;34m,\u001b[0m \u001b[0mname\u001b[0m\u001b[0;34m,\u001b[0m\u001b[0;34m\u001b[0m\u001b[0;34m\u001b[0m\u001b[0m\n\u001b[0;32m--> 142\u001b[0;31m         tld.op_callbacks, resource, value)\n\u001b[0m\u001b[1;32m    143\u001b[0m       \u001b[0;32mreturn\u001b[0m \u001b[0m_result\u001b[0m\u001b[0;34m\u001b[0m\u001b[0;34m\u001b[0m\u001b[0m\n\u001b[1;32m    144\u001b[0m     \u001b[0;32mexcept\u001b[0m \u001b[0m_core\u001b[0m\u001b[0;34m.\u001b[0m\u001b[0m_FallbackException\u001b[0m\u001b[0;34m:\u001b[0m\u001b[0;34m\u001b[0m\u001b[0;34m\u001b[0m\u001b[0m\n",
            "\u001b[0;31mKeyboardInterrupt\u001b[0m: "
          ]
        }
      ]
    },
    {
      "cell_type": "code",
      "metadata": {
        "id": "A4OmGuPPl-sh",
        "colab_type": "code",
        "colab": {}
      },
      "source": [
        "rnn_model.save('DEM_model.h5')"
      ],
      "execution_count": 0,
      "outputs": []
    },
    {
      "cell_type": "code",
      "metadata": {
        "id": "W30IPPDOu-LH",
        "colab_type": "code",
        "colab": {}
      },
      "source": [
        "maes = np.array([])\n",
        "\n",
        "mask_value = K.variable(np.array([nan_value, nan_value]), dtype=tf.float64)\n",
        "normalization_factor = csv_data_set.belt_width\n",
        "\n",
        "for input_batch, target_batch in dataset_test:\n",
        "    # reset state\n",
        "    hidden = rnn_model.reset_states()\n",
        "\n",
        "    batch_predictions = rnn_model(input_batch)\n",
        "\n",
        "    # Calculate the mask\n",
        "    mask = K.all(K.equal(target_batch, mask_value), axis=-1)\n",
        "    mask = 1 - K.cast(mask, tf.float64)\n",
        "    mask = K.cast(mask, tf.float64)\n",
        "\n",
        "    target_batch_unnormalized = target_batch * normalization_factor\n",
        "    pred_batch_unnormalized = batch_predictions * normalization_factor\n",
        "\n",
        "    batch_loss = tf.keras.losses.mean_absolute_error(target_batch_unnormalized, pred_batch_unnormalized) * mask\n",
        "    \n",
        "    num_time_steps_per_track = tf.reduce_sum(mask, axis=-1)\n",
        "    \n",
        "    batch_loss_per_track = tf.reduce_sum(batch_loss, axis=-1) / num_time_steps_per_track\n",
        "\n",
        "    maes = np.concatenate((maes, batch_loss_per_track.numpy().reshape([-1])))\n",
        "\n"
      ],
      "execution_count": 0,
      "outputs": []
    },
    {
      "cell_type": "code",
      "metadata": {
        "id": "WHxO7jwIbKHg",
        "colab_type": "code",
        "colab": {
          "base_uri": "https://localhost:8080/",
          "height": 35
        },
        "outputId": "a55c1d0a-fd59-49f5-b045-f9e4951ad9f8"
      },
      "source": [
        "print(\"Mean={}\".format(np.mean(maes)))"
      ],
      "execution_count": 27,
      "outputs": [
        {
          "output_type": "stream",
          "text": [
            "Mean=0.0003810550153294183\n"
          ],
          "name": "stdout"
        }
      ]
    },
    {
      "cell_type": "code",
      "metadata": {
        "id": "IFvK09SdcmGj",
        "colab_type": "code",
        "colab": {}
      },
      "source": [
        "maes_millimeter = maes * 1000.\n",
        "maes_px = maes_millimeter * (1. / 0.056)"
      ],
      "execution_count": 0,
      "outputs": []
    },
    {
      "cell_type": "code",
      "metadata": {
        "id": "JYMLEdOsex6W",
        "colab_type": "code",
        "colab": {
          "base_uri": "https://localhost:8080/",
          "height": 35
        },
        "outputId": "79c6f756-04e0-4637-ad01-931b31b6a085"
      },
      "source": [
        "print(\"Mean[px]={}\".format(np.mean(maes_px)))"
      ],
      "execution_count": 29,
      "outputs": [
        {
          "output_type": "stream",
          "text": [
            "Mean[px]=6.804553845168184\n"
          ],
          "name": "stdout"
        }
      ]
    },
    {
      "cell_type": "code",
      "metadata": {
        "id": "R8Rzjddxyg18",
        "colab_type": "code",
        "colab": {
          "base_uri": "https://localhost:8080/",
          "height": 281
        },
        "outputId": "00f19222-ac33-4927-ca7a-9fc3c935fbda"
      },
      "source": [
        "plt.rc('grid', linestyle=\":\")\n",
        "fig1, ax1 = plt.subplots()\n",
        "ax1.yaxis.grid(True)\n",
        "ax1.set_ylim([0,4.0])\n",
        "  \n",
        "ax1.set_title('Boxplot NextStep-RNN')\n",
        "prop = dict(linewidth=2.5)\n",
        "ax1.boxplot(maes_px, showfliers=False, boxprops=prop, whiskerprops=prop, medianprops=prop, capprops=prop)\n",
        "plt.show()"
      ],
      "execution_count": 33,
      "outputs": [
        {
          "output_type": "display_data",
          "data": {
            "image/png": "[encoded data removed]",
            "text/plain": [
              "<Figure size 432x288 with 1 Axes>"
            ]
          },
          "metadata": {
            "tags": []
          }
        }
      ]
    },
    {
      "cell_type": "code",
      "metadata": {
        "id": "gMyVqoSImQE9",
        "colab_type": "code",
        "colab": {
          "base_uri": "https://localhost:8080/",
          "height": 281
        },
        "outputId": "2196f103-f0fb-4d28-b0f3-13d6bde0fffc"
      },
      "source": [
        "plt.rc('grid', linestyle=\":\")\n",
        "fig1, ax1 = plt.subplots()\n",
        "ax1.yaxis.grid(True)\n",
        "ax1.set_ylim([0,14.0])\n",
        "  \n",
        "ax1.set_title('Boxplot NextStep-RNN')\n",
        "prop = dict(linewidth=2.5)\n",
        "ax1.boxplot(maes_px, showfliers=False, boxprops=prop, whiskerprops=prop, medianprops=prop, capprops=prop)\n",
        "plt.show()"
      ],
      "execution_count": 34,
      "outputs": [
        {
          "output_type": "display_data",
          "data": {
            "image/png": "[encoded data removed]",
            "text/plain": [
              "<Figure size 432x288 with 1 Axes>"
            ]
          },
          "metadata": {
            "tags": []
          }
        }
      ]
    },
    {
      "cell_type": "code",
      "metadata": {
        "id": "L-CuXUsbwNOV",
        "colab_type": "code",
        "colab": {}
      },
      "source": [
        ""
      ],
      "execution_count": 0,
      "outputs": []
    }
  ]
}