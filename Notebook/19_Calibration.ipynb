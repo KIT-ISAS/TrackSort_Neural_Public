{
 "cells": [
  {
   "cell_type": "code",
   "execution_count": 1,
   "metadata": {},
   "outputs": [],
   "source": [
    "import sys\n",
    "sys.path.append(\"../\") # go to parent dir\n",
    "\n",
    "import tensorflow as tf\n",
    "import numpy as np\n",
    "import matplotlib.pyplot as plt\n",
    "\n",
    "from scipy.stats import chi2, norm\n",
    "from sklearn.isotonic import IsotonicRegression\n",
    "\n",
    "import model\n",
    "import data_manager\n"
   ]
  },
  {
   "cell_type": "markdown",
   "metadata": {},
   "source": [
    "# Daten und Modell laden"
   ]
  },
  {
   "cell_type": "code",
   "execution_count": 2,
   "metadata": {},
   "outputs": [],
   "source": [
    "num_time_steps = 40\n",
    "nan_value = 0\n",
    "batch_size = 64"
   ]
  },
  {
   "cell_type": "code",
   "execution_count": 3,
   "metadata": {},
   "outputs": [],
   "source": [
    "# glob_pattern = '/home/daniel/Documents/19_20_WS/Praktikum_Anthro/Code/next_step_rnn/data/Pfeffer/trackSortResultPfeffer/*_trackHistory_NothingDeleted.csv'\n",
    "glob_pattern = '/home/daniel/Documents/19_20_WS/Praktikum_Anthro/Code/next_step_rnn/data/DEM_cylinder.csv'\n",
    "\n",
    "csv_data_set = data_manager.CsvDataSet(glob_pattern, \n",
    "                                       timesteps=num_time_steps, \n",
    "                                       nan_value=nan_value, \n",
    "                                       batch_size=batch_size,\n",
    "                                       data_is_aligned=False,\n",
    "                                       rotate_columns=True,\n",
    "                                       normalization_constant=1)\n"
   ]
  },
  {
   "cell_type": "code",
   "execution_count": 4,
   "metadata": {},
   "outputs": [
    {
     "data": {
      "image/png": "[encoded data removed]",
      "text/plain": [
       "<Figure size 432x288 with 1 Axes>"
      ]
     },
     "metadata": {
      "needs_background": "light"
     },
     "output_type": "display_data"
    }
   ],
   "source": [
    "csv_data_set.plot_random_tracks(n=15)"
   ]
  },
  {
   "cell_type": "code",
   "execution_count": 5,
   "metadata": {},
   "outputs": [],
   "source": [
    "dataset_train, dataset_test = csv_data_set.get_tf_data_sets_seq2seq_data(normalized=True)"
   ]
  },
  {
   "cell_type": "code",
   "execution_count": 6,
   "metadata": {},
   "outputs": [
    {
     "name": "stdout",
     "output_type": "stream",
     "text": [
      "WARNING:tensorflow:No training configuration found in save file: the model was *not* compiled. Compile it manually.\n"
     ]
    },
    {
     "name": "stderr",
     "output_type": "stream",
     "text": [
      "WARNING:tensorflow:No training configuration found in save file: the model was *not* compiled. Compile it manually.\n"
     ]
    },
    {
     "name": "stdout",
     "output_type": "stream",
     "text": [
      "Model: \"sequential\"\n",
      "_________________________________________________________________\n",
      "Layer (type)                 Output Shape              Param #   \n",
      "=================================================================\n",
      "masking_layer (Masking)      (64, 49, 2)               0         \n",
      "_________________________________________________________________\n",
      "rnn-0 (LSTM)                 (64, 49, 64)              17152     \n",
      "_________________________________________________________________\n",
      "rnn-1 (LSTM)                 (64, 49, 32)              12416     \n",
      "_________________________________________________________________\n",
      "dense (Dense)                (64, 49, 4)               132       \n",
      "=================================================================\n",
      "Total params: 29,700\n",
      "Trainable params: 29,700\n",
      "Non-trainable params: 0\n",
      "_________________________________________________________________\n"
     ]
    }
   ],
   "source": [
    "path_to_model = '/home/daniel/Documents/19_20_WS/Praktikum_Anthro/Code/next_step_rnn/models/kendall2.h5'\n",
    "\n",
    "rnn_model = tf.keras.models.load_model(path_to_model)\n",
    "\n",
    "rnn_model.summary()"
   ]
  },
  {
   "cell_type": "markdown",
   "metadata": {},
   "source": [
    "# Statistiken auf Testdaten sammeln\n",
    "\n",
    "Dieser Code entspricht dem Vorgehen in der Funktion _get_evaluation_data(...) in model.py"
   ]
  },
  {
   "cell_type": "code",
   "execution_count": 7,
   "metadata": {},
   "outputs": [],
   "source": [
    "# _get_evaluation_data\n",
    "data = {}\n",
    "data['prediction'] = []\n",
    "data['target'] = []\n",
    "data['prediction_variance'] = []\n",
    "data['squared_mahalanobis'] = []\n",
    "\n",
    "for (batch_n, (inp_batch, target_batch)) in enumerate(dataset_test):\n",
    "    inp_batch = inp_batch.numpy()\n",
    "    target_batch = target_batch.numpy()\n",
    "\n",
    "    # Kendall model\n",
    "    _ = rnn_model.reset_states()\n",
    "    predictions = rnn_model(inp_batch)\n",
    "\n",
    "    pos_predictions = predictions[:, :, :2].numpy()\n",
    "    var_predictions = tf.keras.backend.exp(predictions[:, :, 2:]).numpy()\n",
    "   \n",
    "    # store data\n",
    "    for track_idx in range(inp_batch.shape[0]):\n",
    "        seq_length = csv_data_set.get_last_timestep_of_track(inp_batch[track_idx])\n",
    "\n",
    "        for time_step_i in range(seq_length):\n",
    "            data['prediction'] += [pos_predictions[track_idx, time_step_i, :]]\n",
    "            data['prediction_variance'] += [var_predictions[track_idx, time_step_i, :]]\n",
    "            data['target'] += [target_batch[track_idx, time_step_i, :]]\n",
    "            data['squared_mahalanobis'] += [np.sum(\n",
    "                ((data['target'][-1] - data['prediction'][-1]) ** 2) / data['prediction_variance'][\n",
    "                    -1])]\n",
    "            \n",
    "data['prediction'] = np.array(data['prediction'])\n",
    "data['target'] = np.array(data['target'])\n",
    "data['prediction_variance'] = np.array(data['prediction_variance'])\n",
    "data['squared_mahalanobis'] = np.array(data['squared_mahalanobis'])\n"
   ]
  },
  {
   "cell_type": "code",
   "execution_count": 8,
   "metadata": {},
   "outputs": [
    {
     "data": {
      "image/png": "[encoded data removed]",
      "text/plain": [
       "<Figure size 432x288 with 1 Axes>"
      ]
     },
     "metadata": {
      "needs_background": "light"
     },
     "output_type": "display_data"
    }
   ],
   "source": [
    "plt.hist(data['squared_mahalanobis'], bins=150, density=True, stacked=True);"
   ]
  },
  {
   "cell_type": "markdown",
   "metadata": {},
   "source": [
    "# Kalibrierung\n",
    "\n",
    "entspricht dem Vorgehen im Code, außer dass hier nun chi2 und squared_mahalanobis verwendet wird."
   ]
  },
  {
   "cell_type": "code",
   "execution_count": 9,
   "metadata": {},
   "outputs": [
    {
     "data": {
      "image/png": "[encoded data removed]",
      "text/plain": [
       "<Figure size 432x288 with 1 Axes>"
      ]
     },
     "metadata": {
      "needs_background": "light"
     },
     "output_type": "display_data"
    }
   ],
   "source": [
    "expected_confs = np.arange(0, 1, 0.01)\n",
    "empirical_confs = []\n",
    "counter = []\n",
    "\n",
    "N = data['squared_mahalanobis'].shape[0]\n",
    "\n",
    "for expected_confidence in expected_confs:\n",
    "    # critical value\n",
    "    expected_critical_value = chi2.ppf(expected_confidence, df=2)\n",
    "    # which mahal distance is <= than critical value\n",
    "    count_falls_into = np.count_nonzero(data['squared_mahalanobis'] <= expected_critical_value)\n",
    "    counter.append(count_falls_into)\n",
    "    empirical_confs.append(count_falls_into / N)\n",
    "\n",
    "empirical_confs = np.array(empirical_confs)\n",
    "\n",
    "plt.plot(expected_confs, empirical_confs);\n",
    "plt.xlabel('Expected confs');\n",
    "plt.ylabel('Empirical confs');\n",
    "\n",
    "plt.plot((0,1), (0,1), color=\"black\");"
   ]
  },
  {
   "cell_type": "code",
   "execution_count": 10,
   "metadata": {},
   "outputs": [],
   "source": [
    "ir = IsotonicRegression()\n",
    "y_ = ir.fit_transform(empirical_confs, expected_confs)"
   ]
  },
  {
   "cell_type": "markdown",
   "metadata": {},
   "source": [
    "# Konkrete Konfidenz kalibrieren"
   ]
  },
  {
   "cell_type": "code",
   "execution_count": 11,
   "metadata": {},
   "outputs": [
    {
     "name": "stdout",
     "output_type": "stream",
     "text": [
      "query_conf= 0.67  corrected_conf= 0.2071039473684211\n",
      "critical_value_old 2.217325249043222\n",
      "critical_value_new 0.4641262942198945\n",
      "... Circa 67.0% der quadrierten Mahal. Distanzen soll kleiner sein als 0.4641262942198945\n"
     ]
    }
   ],
   "source": [
    "query_conf = 0.67\n",
    "corrected_conf = ir.predict([query_conf])[0]\n",
    "print(\"query_conf=\",query_conf, \" corrected_conf=\", corrected_conf)\n",
    "\n",
    "critical_value_old = chi2.ppf(query_conf, df=2)\n",
    "critical_value_new = chi2.ppf(corrected_conf, df=2)\n",
    "\n",
    "print(\"critical_value_old\", critical_value_old)\n",
    "print(\"critical_value_new\", critical_value_new)\n",
    "\n",
    "print('... Circa {}% der quadrierten Mahal. Distanzen soll kleiner sein als'.format(query_conf*100), critical_value_new)\n"
   ]
  },
  {
   "cell_type": "code",
   "execution_count": 12,
   "metadata": {},
   "outputs": [
    {
     "name": "stdout",
     "output_type": "stream",
     "text": [
      "... tatsächlich sind es 67.03243504921737%.\n"
     ]
    }
   ],
   "source": [
    "# Probe\n",
    "ratio = np.count_nonzero(data['squared_mahalanobis'] <= critical_value_new) / N\n",
    "print(\"... tatsächlich sind es {}%.\".format(ratio*100))\n"
   ]
  },
  {
   "cell_type": "markdown",
   "metadata": {},
   "source": [
    "## Wie kommt man von der alten Ellipse zur neuen?\n",
    "\n",
    "Die kalibrierte Ellipse \"enthält\" die kalibrierten Varianzen:\n",
    "\n",
    "$$ \\frac{x^2}{\\sigma_x^2}  + \\frac{y^2}{\\sigma_y^2}  = \\text{critical_value_new} $$\n",
    "\n",
    "critical_value_new ist der kritische Wert der chi2-Verteilung.\n",
    "\n",
    "Die unkalibrierte Ellipse ist durch einen multiplikativen Faktor verzerrt:\n",
    "\n",
    "$$ \\frac{x^2}{\\sigma_x^2}  * r  + \\frac{y^2}{\\sigma_y^2}  * r   = \\text{critical_value_old} $$\n",
    "\n",
    "$$ r * \\text{critical_value_new} = \\text{critical_value_old} $$\n",
    "\n",
    "$$ r  = \\frac{\\text{critical_value_old}}{\\text{critical_value_new}}$$\n",
    "\n",
    "Damit kommt man jetzt auf die neuen Sigmas:\n",
    "\n",
    "$$ \\frac{ \\sigma_x^2}{ r } = \\sigma_\\text{neu, x}^2$$\n"
   ]
  },
  {
   "cell_type": "code",
   "execution_count": 13,
   "metadata": {},
   "outputs": [],
   "source": [
    "# Plotten\n",
    "# Rastergröße ra\n",
    "ra = 0.005\n",
    "# 2d equation space\n",
    "x = np.linspace(-ra, ra, 1000)\n",
    "y = np.linspace(-ra, ra, 1000)\n",
    "X, Y = np.meshgrid(x,y)"
   ]
  },
  {
   "cell_type": "code",
   "execution_count": 14,
   "metadata": {},
   "outputs": [
    {
     "name": "stdout",
     "output_type": "stream",
     "text": [
      "4.777417863752175\n"
     ]
    }
   ],
   "source": [
    "# Im Beispiel\n",
    "r = critical_value_old / critical_value_new\n",
    "print(r)"
   ]
  },
  {
   "cell_type": "code",
   "execution_count": 19,
   "metadata": {},
   "outputs": [
    {
     "data": {
      "image/png": "[encoded data removed]",
      "text/plain": [
       "<Figure size 432x288 with 1 Axes>"
      ]
     },
     "metadata": {
      "needs_background": "light"
     },
     "output_type": "display_data"
    }
   ],
   "source": [
    "plt.hist2d((data['prediction'][:, 0]-data['target'][:, 0]), \n",
    "           (data['prediction'][:, 1]-data['target'][:, 1]), \n",
    "           bins=100, \n",
    "           range=[[-ra,ra], [-ra, ra]]\n",
    "          );\n",
    "plt.axis('equal');\n",
    "\n",
    "var_x = data['prediction_variance'][1, 0]\n",
    "var_y = data['prediction_variance'][1, 1]\n",
    "\n",
    "# alte ellipse\n",
    "F = np.sqrt((X**2)/var_x + (Y**2)/var_y) - critical_value_old\n",
    "plt.contour(X,Y,F,[0], colors=\"red\", linewidths=1);\n",
    "\n",
    "# transformierte ellipse\n",
    "F = np.sqrt(((X**2)/(var_x/r)) + ((Y**2)/(var_y/r))) - critical_value_old\n",
    "plt.contour(X,Y,F,[0], colors=\"black\", linewidths=1);"
   ]
  },
  {
   "cell_type": "markdown",
   "metadata": {},
   "source": [
    "In rot: alte Ellipse (Unsicherheiten werden überschätzt)\n",
    "\n",
    "In schwarz: Korrigierte Ellipse ist kleiner"
   ]
  },
  {
   "cell_type": "code",
   "execution_count": 16,
   "metadata": {},
   "outputs": [
    {
     "name": "stderr",
     "output_type": "stream",
     "text": [
      "/home/daniel/Documents/19_20_WS/Praktikum_Anthro/Code/next_step_rnn/cpu_env/lib/python3.5/site-packages/matplotlib/contour.py:1243: UserWarning: No contour levels were found within the data range.\n",
      "  warnings.warn(\"No contour levels were found\"\n"
     ]
    },
    {
     "data": {
      "image/png": "[encoded data removed]",
      "text/plain": [
       "<Figure size 432x288 with 1 Axes>"
      ]
     },
     "metadata": {
      "needs_background": "light"
     },
     "output_type": "display_data"
    }
   ],
   "source": [
    "for prediction_i in range(100):\n",
    "\n",
    "    plt.hist2d((data['prediction'][:, 0]-data['target'][:, 0]), \n",
    "               (data['prediction'][:, 1]-data['target'][:, 1]), \n",
    "               bins=100, \n",
    "               range=[[-ra,ra], [-ra, ra]]\n",
    "              );\n",
    "    plt.axis('equal');\n",
    "\n",
    "    var_x = data['prediction_variance'][prediction_i, 0]\n",
    "    var_y = data['prediction_variance'][prediction_i, 1]\n",
    "\n",
    "    # alte ellipse\n",
    "    F = np.sqrt((X**2)/var_x + (Y**2)/var_y) - critical_value_old\n",
    "    plt.contour(X,Y,F,[0], colors=\"red\", linewidths=1);\n",
    "\n",
    "    # transformierte ellipse\n",
    "    F = np.sqrt(((X**2)/(var_x/r)) + ((Y**2)/(var_y/r))) - critical_value_old\n",
    "    plt.contour(X,Y,F,[0], colors=\"black\", linewidths=1);"
   ]
  }
 ],
 "metadata": {
  "kernelspec": {
   "display_name": "local-venv",
   "language": "python",
   "name": "local-venv"
  },
  "language_info": {
   "codemirror_mode": {
    "name": "ipython",
    "version": 3
   },
   "file_extension": ".py",
   "mimetype": "text/x-python",
   "name": "python",
   "nbconvert_exporter": "python",
   "pygments_lexer": "ipython3",
   "version": "3.5.2"
  }
 },
 "nbformat": 4,
 "nbformat_minor": 2
}
