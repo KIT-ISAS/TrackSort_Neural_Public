{
 "cells": [
  {
   "cell_type": "markdown",
   "metadata": {},
   "source": [
    "In order to test the behaviour of the RNN (and its uncertainty estimation) I create \n",
    "test scenarios for qualitative assessment.\n",
    "\n",
    "- collision with the wall\n",
    "- small jump\n",
    "- track, that starts late\n",
    "- track, that slows down\n",
    "- fast acceleration"
   ]
  },
  {
   "cell_type": "code",
   "execution_count": 7,
   "metadata": {},
   "outputs": [],
   "source": [
    "import numpy as np\n",
    "import pandas as pd\n",
    "import matplotlib.pyplot as plt"
   ]
  },
  {
   "cell_type": "code",
   "execution_count": 129,
   "metadata": {},
   "outputs": [],
   "source": [
    "# A = (belt_left_x, belt_left_y)\n",
    "belt_left_x = 0.3\n",
    "belt_left_y = 0.0\n",
    "\n",
    "# B = (belt_right_x, belt_right_y)\n",
    "belt_right_x = 0.8\n",
    "belt_right_y = 0.2\n",
    "\n",
    "n_timesteps = 30"
   ]
  },
  {
   "cell_type": "markdown",
   "metadata": {},
   "source": [
    "Belt\n",
    "\n",
    "```\n",
    "---------------------B\n",
    "|                    |\n",
    "|                    |\n",
    "A--------------------|\n",
    "```"
   ]
  },
  {
   "cell_type": "code",
   "execution_count": 130,
   "metadata": {},
   "outputs": [],
   "source": [
    "# colission with wall\n",
    "data_1 = np.array([\n",
    "    [0.00, 0.50],\n",
    "    [0.02, 0.48],\n",
    "    [0.04, 0.45],\n",
    "    [0.06, 0.42],\n",
    "    [0.08, 0.39],\n",
    "    [0.10, 0.36],\n",
    "    [0.12, 0.34],\n",
    "    [0.14, 0.31],\n",
    "    [0.16, 0.28],\n",
    "    [0.18, 0.25],\n",
    "    [0.20, 0.22],\n",
    "    [0.22, 0.19],\n",
    "    [0.24, 0.16],\n",
    "    [0.26, 0.13],\n",
    "    [0.28, 0.11],\n",
    "    [0.30, 0.08],\n",
    "    [0.32, 0.06],\n",
    "    [0.34, 0.04],\n",
    "    [0.36, 0.02],\n",
    "    [0.38, 0.00],\n",
    "    [0.40, 0.02],\n",
    "    [0.43, 0.05],\n",
    "    [0.45, 0.08],\n",
    "    [0.47, 0.11],\n",
    "    [0.49, 0.14],\n",
    "    [0.52, 0.17],\n",
    "    [0.54, 0.20],\n",
    "    [0.56, 0.22],\n",
    "    [0.58, 0.25],\n",
    "    [0.60, 0.28],\n",
    "    [0.62, 0.31],\n",
    "    [0.64, 0.34],\n",
    "    [0.66, 0.37],\n",
    "    [0.68, 0.39],\n",
    "    [0.70, 0.41],\n",
    "    [0.72, 0.43],\n",
    "    [0.74, 0.45],\n",
    "    [0.76, 0.47],\n",
    "    [0.78, 0.49],\n",
    "    [0.80, 0.51],\n",
    "    [0.82, 0.53],\n",
    "    [0.84, 0.55],\n",
    "    [0.86, 0.57],\n",
    "    [0.88, 0.59],\n",
    "    [0.90, 0.61],\n",
    "    [0.92, 0.63],\n",
    "    [0.94, 0.65],\n",
    "    [0.96, 0.67],\n",
    "    [0.98, 0.69],\n",
    "])"
   ]
  },
  {
   "cell_type": "code",
   "execution_count": 131,
   "metadata": {},
   "outputs": [
    {
     "data": {
      "text/plain": [
       "<matplotlib.collections.PathCollection at 0x7f07e96322b0>"
      ]
     },
     "execution_count": 131,
     "metadata": {},
     "output_type": "execute_result"
    },
    {
     "data": {
      "image/png": "[encoded data removed]",
      "text/plain": [
       "<Figure size 432x288 with 1 Axes>"
      ]
     },
     "metadata": {},
     "output_type": "display_data"
    }
   ],
   "source": [
    "plt.scatter(data_1[:, 0], data_1[:, 1])"
   ]
  },
  {
   "cell_type": "code",
   "execution_count": 132,
   "metadata": {},
   "outputs": [],
   "source": [
    "data_2 = data_1 + np.random.normal(size=data_1.shape, scale=0.004)"
   ]
  },
  {
   "cell_type": "code",
   "execution_count": 133,
   "metadata": {},
   "outputs": [
    {
     "data": {
      "text/plain": [
       "<matplotlib.collections.PathCollection at 0x7f07e95f9dd8>"
      ]
     },
     "execution_count": 133,
     "metadata": {},
     "output_type": "execute_result"
    },
    {
     "data": {
      "image/png": "[encoded data removed]",
      "text/plain": [
       "<Figure size 432x288 with 1 Axes>"
      ]
     },
     "metadata": {},
     "output_type": "display_data"
    }
   ],
   "source": [
    "plt.scatter(data_2[:, 0], data_2[:, 1])"
   ]
  },
  {
   "cell_type": "code",
   "execution_count": 134,
   "metadata": {},
   "outputs": [],
   "source": [
    "# small jump"
   ]
  },
  {
   "cell_type": "code",
   "execution_count": 135,
   "metadata": {},
   "outputs": [],
   "source": [
    "# colission with wall\n",
    "data_3 = np.array([\n",
    "    [0.00, 0.50],\n",
    "    [0.04, 0.50],\n",
    "    [0.08, 0.50],\n",
    "    [0.12, 0.50],\n",
    "    [0.16, 0.50],\n",
    "    [0.20, 0.50],\n",
    "    [0.24, 0.50],\n",
    "    [0.28, 0.50],\n",
    "    [0.32, 0.50],\n",
    "    [0.36, 0.50],\n",
    "    [0.40, 0.50],\n",
    "    [0.45, 0.40],\n",
    "    [0.49, 0.40],\n",
    "    [0.54, 0.40],\n",
    "    [0.58, 0.40],\n",
    "    [0.62, 0.40],\n",
    "    [0.66, 0.40],\n",
    "    [0.70, 0.40],\n",
    "    [0.74, 0.40],\n",
    "    [0.78, 0.40],\n",
    "    [0.82, 0.40],\n",
    "    [0.86, 0.40],\n",
    "    [0.90, 0.40],\n",
    "    [0.94, 0.40],\n",
    "    [0.98, 0.40],\n",
    "])"
   ]
  },
  {
   "cell_type": "code",
   "execution_count": 136,
   "metadata": {},
   "outputs": [
    {
     "data": {
      "text/plain": [
       "<matplotlib.collections.PathCollection at 0x7f07e95b8518>"
      ]
     },
     "execution_count": 136,
     "metadata": {},
     "output_type": "execute_result"
    },
    {
     "data": {
      "image/png": "[encoded data removed]",
      "text/plain": [
       "<Figure size 432x288 with 1 Axes>"
      ]
     },
     "metadata": {},
     "output_type": "display_data"
    }
   ],
   "source": [
    "plt.scatter(data_3[:, 0], data_3[:, 1])"
   ]
  },
  {
   "cell_type": "code",
   "execution_count": 137,
   "metadata": {},
   "outputs": [],
   "source": [
    "data_4 = data_3 + np.random.normal(size=data_3.shape, scale=0.001)"
   ]
  },
  {
   "cell_type": "code",
   "execution_count": 138,
   "metadata": {},
   "outputs": [
    {
     "data": {
      "text/plain": [
       "<matplotlib.collections.PathCollection at 0x7f07e9572c50>"
      ]
     },
     "execution_count": 138,
     "metadata": {},
     "output_type": "execute_result"
    },
    {
     "data": {
      "image/png": "[encoded data removed]",
      "text/plain": [
       "<Figure size 432x288 with 1 Axes>"
      ]
     },
     "metadata": {},
     "output_type": "display_data"
    }
   ],
   "source": [
    "plt.scatter(data_4[:, 0], data_4[:, 1])"
   ]
  },
  {
   "cell_type": "code",
   "execution_count": 139,
   "metadata": {},
   "outputs": [],
   "source": [
    "# colission with wall\n",
    "data_6 = np.array([\n",
    "    [0.43, 0.40],\n",
    "    [0.47, 0.40],\n",
    "    [0.52, 0.40],\n",
    "    [0.56, 0.40],\n",
    "    [0.60, 0.40],\n",
    "    [0.64, 0.40],\n",
    "    [0.68, 0.40],\n",
    "    [0.72, 0.40],\n",
    "    [0.76, 0.40],\n",
    "    [0.80, 0.40],\n",
    "    [0.84, 0.40],\n",
    "    [0.88, 0.40],\n",
    "    [0.92, 0.40],\n",
    "    [0.96, 0.40],\n",
    "    [0.98, 0.40],\n",
    "])"
   ]
  },
  {
   "cell_type": "code",
   "execution_count": 140,
   "metadata": {},
   "outputs": [
    {
     "data": {
      "text/plain": [
       "<matplotlib.collections.PathCollection at 0x7f07e952d9b0>"
      ]
     },
     "execution_count": 140,
     "metadata": {},
     "output_type": "execute_result"
    },
    {
     "data": {
      "image/png": "[encoded data removed]",
      "text/plain": [
       "<Figure size 432x288 with 1 Axes>"
      ]
     },
     "metadata": {},
     "output_type": "display_data"
    }
   ],
   "source": [
    "data_7 = data_6 + np.random.normal(size=data_6.shape, scale=0.001)\n",
    "\n",
    "plt.scatter(data_7[:, 0], data_7[:, 1])"
   ]
  },
  {
   "cell_type": "code",
   "execution_count": 141,
   "metadata": {},
   "outputs": [],
   "source": [
    "# colission with wall\n",
    "data_8 = np.array([\n",
    "    [0.00, 0.50],\n",
    "    [0.04, 0.50],\n",
    "    [0.08, 0.50],\n",
    "    [0.12, 0.50],\n",
    "    [0.16, 0.50],\n",
    "    [0.20, 0.50],\n",
    "    [0.24, 0.50],\n",
    "    [0.28, 0.50],\n",
    "    [0.32, 0.50],\n",
    "    [0.36, 0.50],\n",
    "    [0.40, 0.50],\n",
    "    [0.44, 0.50],\n",
    "    [0.48, 0.50],\n",
    "    [0.52, 0.50],\n",
    "    [0.53, 0.50],\n",
    "    [0.535, 0.50],\n",
    "    [0.54, 0.50],\n",
    "    [0.545, 0.50],\n",
    "    [0.55, 0.50],\n",
    "    [0.551, 0.50],\n",
    "    [0.552, 0.50],\n",
    "    [0.553, 0.50],\n",
    "    [0.6, 0.50],\n",
    "    [0.61, 0.50],\n",
    "    [0.64, 0.50],\n",
    "    [0.68, 0.50],\n",
    "    [0.72, 0.50],\n",
    "    [0.76, 0.50],\n",
    "    [0.80, 0.50],\n",
    "    [0.84, 0.50],\n",
    "    [0.88, 0.50],\n",
    "    [0.92, 0.50],\n",
    "    [0.96, 0.50],\n",
    "    [0.98, 0.50],\n",
    "])"
   ]
  },
  {
   "cell_type": "code",
   "execution_count": 142,
   "metadata": {},
   "outputs": [],
   "source": [
    "data_9 = data_8 + np.random.normal(size=data_8.shape, scale=0.001)"
   ]
  },
  {
   "cell_type": "code",
   "execution_count": 143,
   "metadata": {},
   "outputs": [
    {
     "data": {
      "text/plain": [
       "<matplotlib.collections.PathCollection at 0x7f07e94e0eb8>"
      ]
     },
     "execution_count": 143,
     "metadata": {},
     "output_type": "execute_result"
    },
    {
     "data": {
      "image/png": "[encoded data removed]",
      "text/plain": [
       "<Figure size 432x288 with 1 Axes>"
      ]
     },
     "metadata": {},
     "output_type": "display_data"
    }
   ],
   "source": [
    "plt.scatter(data_8[:, 0], data_8[:, 1])"
   ]
  },
  {
   "cell_type": "code",
   "execution_count": 144,
   "metadata": {},
   "outputs": [
    {
     "data": {
      "text/plain": [
       "<matplotlib.collections.PathCollection at 0x7f07e949e048>"
      ]
     },
     "execution_count": 144,
     "metadata": {},
     "output_type": "execute_result"
    },
    {
     "data": {
      "image/png": "[encoded data removed]",
      "text/plain": [
       "<Figure size 432x288 with 1 Axes>"
      ]
     },
     "metadata": {},
     "output_type": "display_data"
    }
   ],
   "source": [
    "# colission with wall\n",
    "data_10 = np.array([\n",
    "    [0.00, 0.50],\n",
    "    [0.04, 0.50],\n",
    "    [0.08, 0.50],\n",
    "    [0.12, 0.50],\n",
    "    [0.16, 0.50],\n",
    "    [0.20, 0.50],\n",
    "    [0.24, 0.50],\n",
    "    [0.28, 0.50],\n",
    "    [0.32, 0.50],\n",
    "    [0.36, 0.50],\n",
    "    [0.42, 0.50],\n",
    "    [0.50, 0.50],\n",
    "    [0.58, 0.50],\n",
    "    [0.70, 0.50],\n",
    "    [0.81, 0.50],\n",
    "    [0.92, 0.50],\n",
    "])\n",
    "\n",
    "data_11 = data_10 + np.random.normal(size=data_10.shape, scale=0.001)\n",
    "\n",
    "plt.scatter(data_11[:, 0], data_11[:, 1])"
   ]
  },
  {
   "cell_type": "code",
   "execution_count": 145,
   "metadata": {},
   "outputs": [
    {
     "name": "stderr",
     "output_type": "stream",
     "text": [
      "/home/daniel/.local/lib/python3.5/site-packages/ipykernel_launcher.py:9: RuntimeWarning: invalid value encountered in true_divide\n",
      "  if __name__ == '__main__':\n"
     ]
    },
    {
     "data": {
      "text/plain": [
       "array([[nan, nan, nan, ..., nan, nan, nan],\n",
       "       [nan, nan, nan, ..., nan, nan, nan],\n",
       "       [nan, nan, nan, ..., nan, nan, nan],\n",
       "       ...,\n",
       "       [nan, nan, nan, ..., nan, nan, nan],\n",
       "       [nan, nan, nan, ..., nan, nan, nan],\n",
       "       [nan, nan, nan, ..., nan, nan, nan]])"
      ]
     },
     "execution_count": 145,
     "metadata": {},
     "output_type": "execute_result"
    }
   ],
   "source": [
    "# pack into file\n",
    "\n",
    "datas = [data_1, data_2, data_3, data_4, data_5, data_6, data_7, data_8, data_9, data_10, data_11]\n",
    "max_length = max([data.shape[0] for data in datas])\n",
    "\n",
    "timesteps = (max_length + 1) * len(datas)\n",
    "\n",
    "tracks = np.zeros(shape=(timesteps, len(datas) * 2))\n",
    "tracks /= 0\n",
    "\n",
    "tracks"
   ]
  },
  {
   "cell_type": "code",
   "execution_count": 146,
   "metadata": {},
   "outputs": [
    {
     "data": {
      "text/plain": [
       "(550, 22)"
      ]
     },
     "execution_count": 146,
     "metadata": {},
     "output_type": "execute_result"
    }
   ],
   "source": [
    "tracks.shape"
   ]
  },
  {
   "cell_type": "code",
   "execution_count": 147,
   "metadata": {},
   "outputs": [],
   "source": [
    "time_step = -1\n",
    "\n",
    "for data_i, data in enumerate(datas):\n",
    "    \n",
    "    \n",
    "    data[:, 0] *= belt_right_x - belt_left_x\n",
    "    data[:, 1] *= belt_right_y - belt_left_y\n",
    "    \n",
    "    data[:, 0] += belt_left_x\n",
    "    data[:, 1] += belt_left_y\n",
    "    \n",
    "    for data_time_step in range(data.shape[0]):\n",
    "        time_step += 1\n",
    "        tracks[time_step, 2*data_i] = data[data_time_step, 0]\n",
    "        tracks[time_step, 2*data_i+1] = data[data_time_step, 1]\n"
   ]
  },
  {
   "cell_type": "code",
   "execution_count": 148,
   "metadata": {},
   "outputs": [
    {
     "data": {
      "text/plain": [
       "array([[0.3  , 0.1  ,   nan, ...,   nan,   nan,   nan],\n",
       "       [0.31 , 0.096,   nan, ...,   nan,   nan,   nan],\n",
       "       [0.32 , 0.09 ,   nan, ...,   nan,   nan,   nan],\n",
       "       ...,\n",
       "       [  nan,   nan,   nan, ...,   nan,   nan,   nan],\n",
       "       [  nan,   nan,   nan, ...,   nan,   nan,   nan],\n",
       "       [  nan,   nan,   nan, ...,   nan,   nan,   nan]])"
      ]
     },
     "execution_count": 148,
     "metadata": {},
     "output_type": "execute_result"
    }
   ],
   "source": [
    "tracks"
   ]
  },
  {
   "cell_type": "code",
   "execution_count": 149,
   "metadata": {},
   "outputs": [
    {
     "name": "stderr",
     "output_type": "stream",
     "text": [
      "/home/daniel/.local/lib/python3.5/site-packages/ipykernel_launcher.py:1: RuntimeWarning: invalid value encountered in less\n",
      "  \"\"\"Entry point for launching an IPython kernel.\n"
     ]
    }
   ],
   "source": [
    "tracks[tracks < 0.00001] = 0.00001"
   ]
  },
  {
   "cell_type": "code",
   "execution_count": 150,
   "metadata": {},
   "outputs": [],
   "source": [
    "np.savetxt('handcrafted_tracks.csv', tracks, delimiter=',')"
   ]
  },
  {
   "cell_type": "code",
   "execution_count": 151,
   "metadata": {},
   "outputs": [
    {
     "data": {
      "text/plain": [
       "0.7593706569218132"
      ]
     },
     "execution_count": 151,
     "metadata": {},
     "output_type": "execute_result"
    }
   ],
   "source": [
    "data[:, 0].max()"
   ]
  },
  {
   "cell_type": "code",
   "execution_count": null,
   "metadata": {},
   "outputs": [],
   "source": []
  }
 ],
 "metadata": {
  "kernelspec": {
   "display_name": "Python 3",
   "language": "python",
   "name": "python3"
  },
  "language_info": {
   "codemirror_mode": {
    "name": "ipython",
    "version": 3
   },
   "file_extension": ".py",
   "mimetype": "text/x-python",
   "name": "python",
   "nbconvert_exporter": "python",
   "pygments_lexer": "ipython3",
   "version": "3.5.2"
  }
 },
 "nbformat": 4,
 "nbformat_minor": 2
}
