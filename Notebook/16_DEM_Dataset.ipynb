{
 "cells": [
  {
   "cell_type": "markdown",
   "metadata": {},
   "source": [
    "# Downsample DEM\n",
    "\n",
    "In order to compare the data association with the Florian's implementation we need a dataset with groundtruth.\n",
    "The DEM datasets have that but they were recorded at 10.000 Hz and have a size of more than 1 GB each.\n",
    "\n",
    "Additionally they have to be filtered. \n",
    "\n",
    "Therefore we filter and resample the DEM datasets to 100 Hz each (same frequency as Florian used)."
   ]
  },
  {
   "cell_type": "code",
   "execution_count": 1,
   "metadata": {},
   "outputs": [],
   "source": [
    "import numpy as np\n",
    "import h5py"
   ]
  },
  {
   "cell_type": "code",
   "execution_count": 2,
   "metadata": {},
   "outputs": [],
   "source": [
    "with h5py.File('groundtruthCylinders.mat', 'r') as file_:\n",
    "    gt_x_y_vx_vy = file_.get('gt_x_y_vx_vy').value"
   ]
  },
  {
   "cell_type": "code",
   "execution_count": 6,
   "metadata": {},
   "outputs": [
    {
     "name": "stdout",
     "output_type": "stream",
     "text": [
      "Tracks:  4427\n",
      "Timesteps:  19999\n",
      "Data points per measurement (x,y,v_x, v_y):  4\n"
     ]
    },
    {
     "data": {
      "text/plain": [
       "(4427, 19999, 4)"
      ]
     },
     "execution_count": 6,
     "metadata": {},
     "output_type": "execute_result"
    }
   ],
   "source": [
    "print('Tracks: ', gt_x_y_vx_vy.shape[0])\n",
    "print('Timesteps: ', gt_x_y_vx_vy.shape[1])\n",
    "print('Data points per measurement (x,y,v_x, v_y): ', gt_x_y_vx_vy.shape[2])\n",
    "gt_x_y_vx_vy.shape"
   ]
  },
  {
   "cell_type": "markdown",
   "metadata": {},
   "source": [
    "## Filtern\n",
    "\n",
    "Die Daten enthalten auch die Positionen der Partikel, wenn sie noch in der Schale liegen und nicht auf das Band geschüttet wurden.\n",
    "Daher müssen wir filtern.\n",
    "\n",
    "1. Beobachtungen in Bandgrenzen\n",
    "2. Partikel, die das Band seitlich verlassen (das ist im Datensatz nicht nötig)"
   ]
  },
  {
   "cell_type": "code",
   "execution_count": 21,
   "metadata": {},
   "outputs": [],
   "source": [
    "beltBordersX =[0.388, 0.788]\n",
    "beltBordersY =[0, 0.18]"
   ]
  },
  {
   "cell_type": "code",
   "execution_count": 56,
   "metadata": {},
   "outputs": [],
   "source": [
    "# Beobachtungen von Partikeln nur auf dem Band\n",
    "gt_x_y_vx_vy[gt_x_y_vx_vy[:, :, 0] < beltBordersX[0]] = np.nan\n",
    "gt_x_y_vx_vy[gt_x_y_vx_vy[:, :, 0] > beltBordersX[1]] = np.nan"
   ]
  },
  {
   "cell_type": "code",
   "execution_count": 59,
   "metadata": {},
   "outputs": [],
   "source": [
    "# Keine Partikel, die das Band seitlich verlassen\n",
    "assert not np.any(gt_x_y_vx_vy[:, :, 1] < beltBordersY[0])\n",
    "assert not np.any(gt_x_y_vx_vy[:, :, 1] > beltBordersY[1])"
   ]
  },
  {
   "cell_type": "markdown",
   "metadata": {},
   "source": [
    "# Downsamplen\n"
   ]
  },
  {
   "cell_type": "code",
   "execution_count": 63,
   "metadata": {},
   "outputs": [
    {
     "data": {
      "text/plain": [
       "(4427, 2000, 2)"
      ]
     },
     "execution_count": 63,
     "metadata": {},
     "output_type": "execute_result"
    }
   ],
   "source": [
    "old_hertz = 1000\n",
    "new_hertz = 100\n",
    "step_size = old_hertz // new_hertz\n",
    "\n",
    "downsampled = gt_x_y_vx_vy[:, ::step_size, :2]\n",
    "downsampled = downsampled.copy()\n",
    "downsampled.shape"
   ]
  },
  {
   "cell_type": "code",
   "execution_count": 64,
   "metadata": {},
   "outputs": [],
   "source": [
    "# Die Datei soll folgende Dimensionen haben: [Zeitschritte, 2 * AnzahlPartikel]\n",
    "data = np.swapaxes(downsampled, 0, 1).reshape([downsampled.shape[1], -1])"
   ]
  },
  {
   "cell_type": "code",
   "execution_count": 65,
   "metadata": {},
   "outputs": [],
   "source": [
    "np.savetxt(\"DEM_cylinder.csv\", data, delimiter=',')"
   ]
  }
 ],
 "metadata": {
  "kernelspec": {
   "display_name": "Python 3",
   "language": "python",
   "name": "python3"
  },
  "language_info": {
   "codemirror_mode": {
    "name": "ipython",
    "version": 3
   },
   "file_extension": ".py",
   "mimetype": "text/x-python",
   "name": "python",
   "nbconvert_exporter": "python",
   "pygments_lexer": "ipython3",
   "version": "3.5.2"
  }
 },
 "nbformat": 4,
 "nbformat_minor": 2
}
