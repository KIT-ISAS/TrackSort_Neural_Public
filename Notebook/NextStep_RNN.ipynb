{
 "cells": [
  {
   "cell_type": "markdown",
   "metadata": {
    "colab_type": "text",
    "id": "8--4G7G9cPbR"
   },
   "source": [
    "# NextstepRNN\n",
    "\n",
    "Predict the next position (x,y) given the last position and the latent state of a RNN cell.\n",
    "\n",
    "## ToDos:\n",
    "\n",
    "* data augmentation: tracks zerschneiden in tracklets? Wäre sinnvoll für data association, wenn ein Teilchen in der Mitte auftaucht\n",
    "* does the Masking work?\n",
    "* initial_state lernen\n",
    "* MLP reintrainieren\n",
    "* box plots for all data, to compare with Tobias\n",
    "* curriculum learning\n",
    "* use `padded_inputs = tf.keras.preprocessing.sequence.pad_sequences(raw_inputs, padding='post')` for padding\n"
   ]
  },
  {
   "cell_type": "code",
   "execution_count": 2,
   "metadata": {
    "colab": {
     "base_uri": "https://localhost:8080/",
     "height": 104
    },
    "colab_type": "code",
    "id": "HWw5iGJLsaUF",
    "outputId": "ff928d8b-a07b-4401-f66f-b933f64e48e2"
   },
   "outputs": [
    {
     "name": "stdout",
     "output_type": "stream",
     "text": [
      "The tensorboard extension is already loaded. To reload it, use:\n",
      "  %reload_ext tensorboard\n"
     ]
    }
   ],
   "source": [
    "# pin the tensorflow version\n",
    "try:\n",
    "  # %tensorflow_version only exists in Colab.\n",
    "  %tensorflow_version 2.x\n",
    "except Exception:\n",
    "  pass\n",
    "\n",
    "\n",
    "# Load the TensorBoard notebook extension\n",
    "%load_ext tensorboard\n",
    "# Clear any logs from previous runs\n",
    "# !rm -rf ./logs/ \n",
    "logdir = './logs/'\n",
    "\n",
    "# matplotlib rendering\n",
    "%matplotlib inline"
   ]
  },
  {
   "cell_type": "code",
   "execution_count": null,
   "metadata": {},
   "outputs": [],
   "source": [
    "import sys\n",
    "!{sys.executable} -m pip -q install pandas\n",
    "!{sys.executable} -m pip -q install sklearn\n",
    "!apt-get -q install wget"
   ]
  },
  {
   "cell_type": "code",
   "execution_count": 3,
   "metadata": {
    "colab": {},
    "colab_type": "code",
    "id": "sVmKYxAxkzYY"
   },
   "outputs": [
    {
     "name": "stdout",
     "output_type": "stream",
     "text": [
      "Tensorflow version: 2.0.0\n"
     ]
    }
   ],
   "source": [
    "import os\n",
    "import io\n",
    "import glob\n",
    "import random\n",
    "import time\n",
    "import itertools\n",
    "\n",
    "import pandas as pd\n",
    "import numpy as np\n",
    "import tensorflow as tf\n",
    "import matplotlib.pyplot as plt\n",
    "\n",
    "from sklearn.model_selection import train_test_split\n",
    "from tensorboard.plugins.hparams import api as hp\n",
    "from tensorflow.keras import backend as K\n",
    "from datetime import datetime\n",
    "\n",
    "print('Tensorflow version:', tf.__version__)\n",
    "\n",
    "tf.test.is_gpu_available()\n",
    "plt.rcParams['figure.figsize'] = [20, 10]\n",
    "\n",
    "# set all keras layers to use float64\n",
    "tf.keras.backend.set_floatx('float64')"
   ]
  },
  {
   "cell_type": "code",
   "execution_count": 4,
   "metadata": {
    "colab": {
     "base_uri": "https://localhost:8080/",
     "height": 208
    },
    "colab_type": "code",
    "id": "DDM-KTYllY4Y",
    "outputId": "93ad34bf-3caa-44f5-bd0a-0e77563c156f"
   },
   "outputs": [
    {
     "name": "stdout",
     "output_type": "stream",
     "text": [
      "--2019-11-19 16:21:15--  https://pollithy.com/Pfeffer.zip\n",
      "Resolving pollithy.com (pollithy.com)... 87.118.94.85\n",
      "Connecting to pollithy.com (pollithy.com)|87.118.94.85|:443... connected.\n",
      "HTTP request sent, awaiting response... 304 Not Modified\n",
      "File ‘Pfeffer.zip’ not modified on server. Omitting download.\n",
      "\n"
     ]
    }
   ],
   "source": [
    "# Load the data and unzip quietly\n",
    "!wget -N https://pollithy.com/Pfeffer.zip\n",
    "!unzip -q -u Pfeffer.zip"
   ]
  },
  {
   "cell_type": "code",
   "execution_count": 5,
   "metadata": {
    "colab": {
     "base_uri": "https://localhost:8080/",
     "height": 34
    },
    "colab_type": "code",
    "id": "pIUA09CdUNsX",
    "outputId": "dca18c41-7d21-483a-bf4e-830a3b585d61"
   },
   "outputs": [
    {
     "name": "stdout",
     "output_type": "stream",
     "text": [
      "(6963, 35, 4)\n"
     ]
    }
   ],
   "source": [
    "# DATA LOADING\n",
    "#\n",
    "# The downloaded folder contains .csv-files which contain two columns per track.\n",
    "# for example \"TrackID_4_X\" and \"TrackID_4_Y\".\n",
    "# The code in this cell loads the tracks from the files and puts them into a \n",
    "# zero padded tensor with the shape: [num_tracks, num_time_steps, input_dim*2]\n",
    "# Note: The \"shifted\" versions of the file seem to use one timestamps at a row.\n",
    "#       This is not interesting for us.\n",
    "#\n",
    "# For every timestep the tensor contains: [x_t, y_t, x_{t+1}, y_{t+1}] where\n",
    "#  t is the time step. \n",
    "\n",
    "# data loading parameter\n",
    "num_time_steps = 35 # ToDo: Evaluate max length. 50\n",
    "nan_value = 0\n",
    "input_dim = 2\n",
    "\n",
    "# collect all tracks from the files\n",
    "tracks = []\n",
    "\n",
    "file_list = sorted(glob.glob('Pfeffer/trackSortResultPfeffer/*_trackHistory_NothingDeleted.csv'))\n",
    "\n",
    "for file_ in file_list:\n",
    "  # read the tracks from one measurement\n",
    "  df = pd.read_csv(file_)\n",
    "  # remove columns with less then 6 detections (same as Tobias did)\n",
    "  df.dropna(axis=1, thresh=6, inplace=True)\n",
    "  # there are two columns per track, for example \"TrackID_4_X\" and \"TrackID_4_Y\"\n",
    "  number_of_tracks = int((df.shape[1]) / 2)\n",
    "\n",
    "  # We wan't to use 0.0 as NaN value. Therefore we have to check that it does not\n",
    "  #   exist in the data.   Note: the double .min().min() is necessary because we\n",
    "  #   first get the column minima and then we get the table minimum from that\n",
    "  assert df.min().min() > 0.0, f\"Error: The dataframe {file_} contains a minimum <= 0.0\"\n",
    "\n",
    "  # for every track we create:\n",
    "  #  x, y, x_target, y_target zero padded\n",
    "  for track_number in range(number_of_tracks):\n",
    "    x = df.iloc[:, (2 * track_number)].to_numpy(copy=True)\n",
    "    x = np.concatenate((x[:-1], np.array([nan_value])))\n",
    "    y = df.iloc[:, (2 * track_number + 1)].to_numpy(copy=True)\n",
    "    y = np.concatenate((y[:-1], np.array([nan_value])))\n",
    "    \n",
    "    # remove the last input because we have no target for it\n",
    "    last_index = np.where(np.isnan(x))[0][0] - 1\n",
    "    x[last_index] = np.nan\n",
    "    y[last_index] = np.nan\n",
    "\n",
    "    # the ground truth where to particle will be afterwards\n",
    "    x_target = np.concatenate( ( df.iloc[:, (2 * track_number)].to_numpy(copy=True)[1:], np.array([nan_value]) ) )\n",
    "    y_target = np.concatenate( ( df.iloc[:, (2 * track_number + 1)].to_numpy(copy=True)[1:], np.array([nan_value]) ) )\n",
    "\n",
    "    input_matrix = np.vstack((x, y, x_target, y_target))\n",
    "    input_matrix = np.nan_to_num(input_matrix, nan=nan_value)\n",
    "    input_matrix = input_matrix\n",
    "\n",
    "    # initialize the array with zeros\n",
    "    matrix = np.zeros([num_time_steps, input_dim*2])\n",
    "\n",
    "    # insert the data of the track into the zero \"black\" background\n",
    "    matrix[0:x.size, 0:input_dim*2] = input_matrix.T\n",
    "\n",
    "    tracks.append(matrix)\n",
    "\n",
    "tracks = np.array(tracks)\n",
    "print(tracks.shape)"
   ]
  },
  {
   "cell_type": "code",
   "execution_count": 6,
   "metadata": {
    "colab": {
     "base_uri": "https://localhost:8080/",
     "height": 34
    },
    "colab_type": "code",
    "id": "2uVy7miIeR65",
    "outputId": "ed2f549f-911f-47b9-a015-750b548f81ad"
   },
   "outputs": [
    {
     "name": "stdout",
     "output_type": "stream",
     "text": [
      "x_max: 2181.72 and y_max: 1678.9327\n"
     ]
    }
   ],
   "source": [
    "# Normalization\n",
    "#\n",
    "# For later use we have to store x_max and y_max in order to \n",
    "# apply and revert normalization. It might also be enough to\n",
    "# set constant values like 2500 and 2000.\n",
    "\n",
    "# normalize (x distinct of y)\n",
    "x_max = np.nanmax(tracks[:, :, [0, 2]])\n",
    "y_max = np.nanmax(tracks[:, :, [1, 3]])\n",
    "print(f'x_max: {x_max} and y_max: {y_max}')\n",
    "\n",
    "# now all values are in [0, 1.0]\n",
    "tracks[:, :, [0, 2]] /= x_max\n",
    "tracks[:, :, [1, 3]] /= y_max"
   ]
  },
  {
   "cell_type": "code",
   "execution_count": 7,
   "metadata": {
    "colab": {
     "base_uri": "https://localhost:8080/",
     "height": 641
    },
    "colab_type": "code",
    "id": "DzS7EMYFbNkf",
    "outputId": "e2bdb752-ce6f-457f-99f3-0187ce8c305a"
   },
   "outputs": [
    {
     "data": {
      "image/png": "[encoded data removed]",
      "text/plain": [
       "<Figure size 1440x720 with 1 Axes>"
      ]
     },
     "metadata": {
      "needs_background": "light"
     },
     "output_type": "display_data"
    }
   ],
   "source": [
    "# track visualization\n",
    "def plot_track(track, color='black', start=0, end=-1, label='track'):\n",
    "    track = track[start:end]\n",
    "\n",
    "    axes = plt.gca()\n",
    "    axes.set_xlim([0, x_max + 100])\n",
    "    axes.set_ylim([0, y_max + 100])\n",
    "\n",
    "    plt.xlabel('x position [px]')\n",
    "    plt.ylabel('y position [px]')\n",
    "    axes.scatter(track[:, 1] * x_max, track[:, 0] * y_max, color=color)\n",
    "    axes.plot(track[:, 1] * x_max, track[:, 0] * y_max, color=color, label=label)\n",
    "    axes.legend()\n",
    "\n",
    "    return axes\n",
    "\n",
    "def get_last_timestep_of_track(track):\n",
    "    for i in range(track.shape[0]):\n",
    "        if not np.any(track[i]):\n",
    "            return i\n",
    "    return i\n",
    "  \n",
    "for _ in range(15):\n",
    "    random_index = random.randint(0, tracks.shape[0] - 1)\n",
    "    random_track = tracks[random_index]\n",
    "    axes = plot_track(random_track, color=np.random.rand(3), \n",
    "                    end=get_last_timestep_of_track(random_track),\n",
    "                    label=f'track {random_index}')\n",
    "    plt.title(f'Tracks')\n",
    "plt.show()"
   ]
  },
  {
   "cell_type": "code",
   "execution_count": 8,
   "metadata": {
    "colab": {},
    "colab_type": "code",
    "id": "7uy3-pfNVJrO"
   },
   "outputs": [],
   "source": [
    "# split into train and test splits\n",
    "test_split_size = 0.1\n",
    "\n",
    "train_tracks, test_tracks = train_test_split(tracks, test_size=test_split_size)"
   ]
  },
  {
   "cell_type": "code",
   "execution_count": 9,
   "metadata": {
    "colab": {},
    "colab_type": "code",
    "id": "3HtzUKxaGScZ"
   },
   "outputs": [],
   "source": [
    "# Tensorflow Dataset API\n",
    "\n",
    "# Training examples\n",
    "batch_size = 128\n",
    "\n",
    "raw_train_dataset = tf.data.Dataset.from_tensor_slices(train_tracks)\n",
    "raw_test_dataset = tf.data.Dataset.from_tensor_slices(test_tracks)\n",
    "\n",
    "# for optimal shuffling the shuffle buffer has to be of the size of the number\n",
    "# of tracks\n",
    "minibatches_train = raw_train_dataset.shuffle(train_tracks.shape[0]).batch(batch_size, drop_remainder=True)\n",
    "minibatches_test = raw_test_dataset.shuffle(test_tracks.shape[0]).batch(batch_size, drop_remainder=True)\n",
    "\n",
    "# We want to train the RNN to solve a Seq2Seq problem:\n",
    "# For each sequence:\n",
    "#  - duplicate it\n",
    "#  - and shift it to form the input and target sequence\n",
    "#    by using the map method\n",
    "\n",
    "def split_input_target(chunk):\n",
    "    # split the tensor (x, y, x_target, y_target) \n",
    "    #  -> into two tensors (x, y) and (x_target, y_target)\n",
    "    input_seq =  chunk[:, :, :2]\n",
    "    target_seq = chunk[:, :, 2:]\n",
    "    return input_seq, target_seq\n",
    "\n",
    "dataset_train = minibatches_train.map(split_input_target)\n",
    "dataset_test = minibatches_test.map(split_input_target)"
   ]
  },
  {
   "cell_type": "code",
   "execution_count": 10,
   "metadata": {},
   "outputs": [],
   "source": [
    "# data augmentation on the training data\n",
    "\n",
    "@tf.function\n",
    "def augment(input_seq: tf.Tensor, target_seq:tf.Tensor) -> tf.Tensor:\n",
    "    # ToDo: what makes sense and does not destroy the masking?\n",
    "    random_float = tf.random.normal([1], mean=1.0, stddev=0.1, dtype=tf.float64)\n",
    "    return input_seq * random_float, target_seq * random_float\n",
    "\n",
    "# dataset_train.map(augment)"
   ]
  },
  {
   "cell_type": "code",
   "execution_count": 11,
   "metadata": {
    "colab": {},
    "colab_type": "code",
    "id": "C5BEUS6_EdEA"
   },
   "outputs": [],
   "source": [
    "# HParams Dashboard for Tensorboard\n",
    "# -> used for hyperparameter optimization\n",
    "\n",
    "# *Attention:* If something is changed here, then a new directory for logging is necessary\n",
    "#    because HParams cannot adapt dynamically to chaning HParams\n",
    "\n",
    "HP_NUM_UNITS_FIRST_LSTM = hp.HParam('num_units_first_lstm', hp.Discrete([4, 16]))\n",
    "HP_NUM_UNITS_SECOND_LSTM = hp.HParam('num_units_second_lstm', hp.Discrete([0, 16]))\n",
    "HP_NUM_UNITS_THIRD_LSTM = hp.HParam('num_units_third_lstm', hp.Discrete([0, 16]))\n",
    "HP_NUM_UNITS_FOURTH_LSTM = hp.HParam('num_units_fourth_lstm', hp.Discrete([0, 16]))\n",
    "LSTM_LAYERS = [HP_NUM_UNITS_FIRST_LSTM, HP_NUM_UNITS_SECOND_LSTM, HP_NUM_UNITS_THIRD_LSTM, HP_NUM_UNITS_FOURTH_LSTM]\n",
    "\n",
    "HP_NUM_UNITS_FIRST_DENSE = hp.HParam('num_units_first_dense', hp.Discrete([16, 32]))\n",
    "HP_NUM_UNITS_SECOND_DENSE = hp.HParam('num_units_second_dense', hp.Discrete([0, 32]))\n",
    "HP_NUM_UNITS_THIRD_DENSE = hp.HParam('num_units_third_dense', hp.Discrete([0, 16]))\n",
    "HP_NUM_UNITS_FOURTH_DENSE = hp.HParam('num_units_fourth_dense', hp.Discrete([0, 8]))\n",
    "DENSE_LAYERS = [HP_NUM_UNITS_FIRST_DENSE, HP_NUM_UNITS_SECOND_DENSE, HP_NUM_UNITS_THIRD_DENSE, HP_NUM_UNITS_FOURTH_DENSE]\n",
    "\n",
    "HP_OPTIMIZER = hp.HParam('optimizer', hp.Discrete(['adam']))\n",
    "LEAKY_RELU_ALPHA = hp.HParam('leaky_relu_alpha', hp.Discrete([0.2]))\n",
    "DENSE_BATCH_NORM = hp.HParam('use_batchnorm_on_dense', hp.Discrete([True]))\n",
    "LR_DECAY_AFTER_EPOCHS = hp.HParam('lr_decay_after_epochs', hp.Discrete([100]))\n",
    "\n",
    "METRIC_MSE = 'mse'\n",
    "\n",
    "ALL_HPARAMS = [HP_OPTIMIZER, LEAKY_RELU_ALPHA, DENSE_BATCH_NORM, LR_DECAY_AFTER_EPOCHS] + LSTM_LAYERS + DENSE_LAYERS\n",
    "\n",
    "with tf.summary.create_file_writer('logs/hparam_tuning').as_default():\n",
    "    hp.hparams_config(\n",
    "        hparams=ALL_HPARAMS,\n",
    "        metrics=[hp.Metric(METRIC_MSE, display_name='MSE')],\n",
    "    )"
   ]
  },
  {
   "cell_type": "code",
   "execution_count": 12,
   "metadata": {
    "colab": {},
    "colab_type": "code",
    "id": "8U76z5mzW099"
   },
   "outputs": [],
   "source": [
    "# model factory\n",
    "def model_factory(hparams):\n",
    "    model = tf.keras.Sequential()\n",
    "\n",
    "    # The Masking makes the model ignore timesteps where the whole vector\n",
    "    # consists of the *mask_value* \n",
    "    model.add(tf.keras.layers.Masking(mask_value=nan_value, name=\"masking_layer\", \n",
    "                                      batch_input_shape=(batch_size, num_time_steps, input_dim)))\n",
    "    \n",
    "    # Add the LSTM layers\n",
    "    for lstm_layer in LSTM_LAYERS:\n",
    "        if hparams[lstm_layer] == 0:\n",
    "            # as soon as one layer has no units, we don't create the layer.\n",
    "            break\n",
    "        else:\n",
    "            model.add(tf.keras.layers.LSTM(hparams[lstm_layer], \n",
    "                                            return_sequences=True, \n",
    "                                            stateful=False, \n",
    "                                            unroll=True,\n",
    "                                            recurrent_initializer='glorot_uniform'))\n",
    "    \n",
    "    # Add the dense layers\n",
    "    for dense_layer in DENSE_LAYERS:\n",
    "        if hparams[dense_layer] == 0:\n",
    "            # as soon as one layer has no units, we don't create the layer.\n",
    "            break\n",
    "        else:\n",
    "            model.add(tf.keras.layers.Dense(hparams[dense_layer]))\n",
    "            model.add(tf.keras.layers.LeakyReLU(alpha=hparams[LEAKY_RELU_ALPHA]))\n",
    "            if hparams[DENSE_BATCH_NORM]:\n",
    "                model.add(tf.keras.layers.BatchNormalization())    \n",
    "    \n",
    "    # Always end with a dense layer with two outputs (x, y)\n",
    "    model.add(tf.keras.layers.Dense(2))\n",
    "\n",
    "    return model\n"
   ]
  },
  {
   "cell_type": "code",
   "execution_count": 13,
   "metadata": {
    "colab": {},
    "colab_type": "code",
    "id": "hUiGXkEvcQ1a"
   },
   "outputs": [],
   "source": [
    "# Directory where the checkpoints will be saved\n",
    "checkpoint_dir = './training_checkpoints'\n",
    "\n",
    "# Name of the checkpoint files\n",
    "checkpoint_prefix = os.path.join(checkpoint_dir, \"ckpt_{epoch}\")\n",
    "\n",
    "checkpoint_callback=tf.keras.callbacks.ModelCheckpoint(\n",
    "    filepath=checkpoint_prefix,\n",
    "    save_weights_only=True)\n",
    "\n",
    "reduce_learning_rate_on_plateau = tf.keras.callbacks.ReduceLROnPlateau(\n",
    "    monitor='loss',  # usually val_loss is used but as they do not really differ we can also use the loss directly\n",
    "    verbose=1,  # show update messages\n",
    "    factor=0.1,\n",
    "    patience=10, \n",
    "    min_lr=0.000001)"
   ]
  },
  {
   "cell_type": "code",
   "execution_count": 19,
   "metadata": {},
   "outputs": [
    {
     "data": {
      "text/plain": [
       "Reusing TensorBoard on port 6006 (pid 2532), started 0:00:39 ago. (Use '!kill 2532' to kill it.)"
      ]
     },
     "metadata": {},
     "output_type": "display_data"
    },
    {
     "data": {
      "text/html": [
       "\n",
       "      <iframe id=\"tensorboard-frame-aa0e93fb4f1e03d5\" width=\"100%\" height=\"800\" frameborder=\"0\">\n",
       "      </iframe>\n",
       "      <script>\n",
       "        (function() {\n",
       "          const frame = document.getElementById(\"tensorboard-frame-aa0e93fb4f1e03d5\");\n",
       "          const url = new URL(\"/\", window.location);\n",
       "          url.port = 6006;\n",
       "          frame.src = url;\n",
       "        })();\n",
       "      </script>\n",
       "  "
      ],
      "text/plain": [
       "<IPython.core.display.HTML object>"
      ]
     },
     "metadata": {},
     "output_type": "display_data"
    }
   ],
   "source": [
    "%tensorboard --logdir logs --host 0.0.0.0 --port 6006"
   ]
  },
  {
   "cell_type": "code",
   "execution_count": 14,
   "metadata": {},
   "outputs": [],
   "source": [
    "# make some graphics to evaluate qualitatively\n",
    "def plot_tracks(n=5, step=1):\n",
    "    for input_example_batch, target_example_batch in dataset_test.take(1):\n",
    "        # hidden = model.reset_states()\n",
    "        example_batch_predictions = model(input_example_batch)\n",
    "        for i in range(n):\n",
    "            seq_length = get_last_timestep_of_track(input_example_batch[i])\n",
    "            axes = plot_track(input_example_batch[i], color='black', end=seq_length, label=f\"Input truth {i}\")\n",
    "            axes = plot_track(target_example_batch[i], color='green', end=seq_length, label=f\"Output truth {i}\")\n",
    "            axes = plot_track(example_batch_predictions[i], color='blue', end=seq_length, label=f\"NextStep-RNN {i}\")\n",
    "            plt.title(f'Track with predictions [test data]')\n",
    "\n",
    "        # store plot in memory buffer\n",
    "        buf = io.BytesIO()\n",
    "        plt.savefig(buf, format='png')\n",
    "        buf.seek(0)\n",
    "        # Convert PNG buffer to TF image\n",
    "        image = tf.image.decode_png(buf.getvalue(), channels=4)\n",
    "        # add batch dim\n",
    "        image = tf.expand_dims(image, 0)\n",
    "        tf.summary.image(\"plot\", image, step=step)\n",
    "\n",
    "        plt.show()"
   ]
  },
  {
   "cell_type": "code",
   "execution_count": 15,
   "metadata": {
    "colab": {},
    "colab_type": "code",
    "id": "Zp4qMaEgHQCU"
   },
   "outputs": [],
   "source": [
    "# IMPORTANT:\n",
    "# The NextStep-RNN only worked if it was supplied with 4 initial data points.\n",
    "# -> but the first predictions were the hardest. Therefore the error is much\n",
    "#    higher at the beginning.\n",
    "# Therefore I created the following evaluation which ignores the first four\n",
    "#  predictions in order to compare our results with results of Tobias.\n",
    "#\n",
    "# In this \"benchmark\" we would calculate the loss as we did because the network\n",
    "#  focuses on minimizing the large loss of the first time steps.\n",
    "#  -> we don't change this, because predicting the first timesteps is our main goal.\n",
    "\n",
    "# ToDo: write TF code for this\n",
    "\n",
    "def calculate_mse_test(model, dataset):\n",
    "    mses = []\n",
    "\n",
    "    it = -1\n",
    "\n",
    "    # at which step to start evaluation\n",
    "    seq_start = 4 # 4\n",
    "    \n",
    "    sum_mse = 0\n",
    "    sum_num_items = 0\n",
    "\n",
    "    for input_example_batch, target_example_batch in dataset:\n",
    "      it += 1\n",
    "      hidden = model.reset_states()\n",
    "      example_batch_predictions = model(input_example_batch)\n",
    "\n",
    "      for i in range(example_batch_predictions.shape[0]):\n",
    "        seq_end = get_last_timestep_of_track(input_example_batch[i])\n",
    "\n",
    "        if seq_end <= seq_start:\n",
    "          continue\n",
    "\n",
    "        y_correct = target_example_batch[i][seq_start:seq_end].numpy()\n",
    "        y_correct[:, 0] *= x_max\n",
    "        y_correct[:, 1] *= y_max\n",
    "\n",
    "        y_predicted = example_batch_predictions[i][seq_start:seq_end].numpy()\n",
    "        y_predicted[:, 0] *= x_max\n",
    "        y_predicted[:, 1] *= y_max\n",
    "\n",
    "        mse = np.linalg.norm(y_correct - y_predicted, axis=1, ord=2)\n",
    "        # mses.append(np.mean(mse))   \n",
    "        \n",
    "        sum_mse += np.mean(mse)\n",
    "        sum_num_items += 1\n",
    "\n",
    "    # return np.mean(mses)\n",
    "    return sum_mse / sum_num_items"
   ]
  },
  {
   "cell_type": "code",
   "execution_count": 16,
   "metadata": {
    "scrolled": true
   },
   "outputs": [],
   "source": [
    "# Custom training\n",
    "\n",
    "def train_step_generator():\n",
    "    \n",
    "    # the placeholder character used for padding\n",
    "    mask_value = K.variable(np.array([nan_value, nan_value]), dtype=tf.float64)\n",
    "    \n",
    "    @tf.function\n",
    "    def train_step(inp, target):\n",
    "        with tf.GradientTape() as tape:\n",
    "            target = K.cast(target, tf.float64)\n",
    "            predictions = model(inp)\n",
    "\n",
    "            mask = K.all(K.equal(target, mask_value), axis=-1)\n",
    "            mask = 1 - K.cast(mask, tf.float64)\n",
    "            mask = K.cast(mask, tf.float64)\n",
    "\n",
    "            # multiply categorical_crossentropy with the mask\n",
    "            loss = tf.keras.losses.mean_squared_error(target, predictions) * mask\n",
    "\n",
    "            # take average w.r.t. the number of unmasked entries\n",
    "            loss = K.sum(loss) / K.sum(mask)\n",
    "\n",
    "        grads = tape.gradient(loss, model.trainable_variables)\n",
    "        optimizer.apply_gradients(zip(grads, model.trainable_variables))\n",
    "\n",
    "        return loss\n",
    "    \n",
    "    return train_step"
   ]
  },
  {
   "cell_type": "code",
   "execution_count": 17,
   "metadata": {},
   "outputs": [],
   "source": [
    "def get_name_for_experiment():\n",
    "    now = datetime.now() # current date and time\n",
    "    datetime_string = now.strftime(\"%Y-%m-%d--%H-%M-%S\")\n",
    "    return datetime_string"
   ]
  },
  {
   "cell_type": "code",
   "execution_count": null,
   "metadata": {
    "scrolled": false
   },
   "outputs": [
    {
     "name": "stdout",
     "output_type": "stream",
     "text": [
      "--- Starting experiment 0/256: 2019-11-19--16-21-33\n",
      "{'optimizer': 'adam', 'leaky_relu_alpha': 0.2, 'use_batchnorm_on_dense': True, 'lr_decay_after_epochs': 100, 'num_units_first_lstm': 4, 'num_units_second_lstm': 0, 'num_units_third_lstm': 0, 'num_units_fourth_lstm': 0, 'num_units_first_dense': 16, 'num_units_second_dense': 0, 'num_units_third_dense': 0, 'num_units_fourth_dense': 0}\n",
      "..................................................E.................................................R.E..........................."
     ]
    }
   ],
   "source": [
    "EPOCHS = 200\n",
    "EVAL_EVERY_NTH_EPOCH = 50\n",
    "\n",
    "num_experiment = 0\n",
    "total_num_experiments = len(list(itertools.product(*[param.domain.values for param in ALL_HPARAMS])))\n",
    "\n",
    "# iterate over all possible hyperparameter combinations\n",
    "for hparam_values in itertools.product(*[param.domain.values for param in ALL_HPARAMS]):\n",
    "    # parameters of current run: dict(HPARAM -> value)\n",
    "    hparams = dict(zip(ALL_HPARAMS, hparam_values))\n",
    "\n",
    "    run_name = get_name_for_experiment()\n",
    "    print(f'--- Starting experiment {num_experiment}/{total_num_experiments}: {run_name}')\n",
    "    print({h.name: hparams[h] for h in hparams})\n",
    "    run_dir = 'logs/hparam_tuning/' + run_name\n",
    "\n",
    "    step = 0\n",
    "\n",
    "    # run the training and evaluation for one model\n",
    "    with tf.summary.create_file_writer(run_dir).as_default():\n",
    "        hp.hparams(hparams)  # record the values used in this trial\n",
    "\n",
    "        model = model_factory(hparams)\n",
    "        # print(model.summary())\n",
    "        train_step = train_step_generator()\n",
    "\n",
    "        # optimizer = 'adam'  # tf.keras.optimizers.Adam(learning_rate=hparams[HP_INITIAL_LR])\n",
    "        optimizer = tf.keras.optimizers.Adam()\n",
    "\n",
    "        for epoch in range(EPOCHS):\n",
    "            # initializing the hidden state at the start of every epoch. initally hidden is None\n",
    "            hidden = model.reset_states()\n",
    "\n",
    "            # learning rate decay\n",
    "            if (epoch+1) % hparams[LR_DECAY_AFTER_EPOCHS] == 0:\n",
    "                old_lr = K.get_value(optimizer.lr)\n",
    "                new_lr = old_lr * 0.1\n",
    "                # print(f\"Reducing learning rate from {old_lr} to {new_lr}.\")\n",
    "                print(\"R\", end='')\n",
    "                K.set_value(optimizer.lr, new_lr)\n",
    "\n",
    "            for (batch_n, (inp, target)) in enumerate(dataset_train):\n",
    "                hidden = model.reset_states()\n",
    "                loss = train_step(inp, target)                    \n",
    "                step += batch_size\n",
    "            # print('Epoch {}/{} Loss {}'.format(epoch+1, EPOCHS, loss))\n",
    "            tf.summary.scalar('training_loss', loss, step=step)\n",
    "\n",
    "            print(\".\", end='')\n",
    "            \n",
    "            if (epoch + 1) % EVAL_EVERY_NTH_EPOCH == 0 or (epoch + 1) == EPOCHS:\n",
    "                train_mse = calculate_mse_test(model, dataset_train)\n",
    "                test_mse = calculate_mse_test(model, dataset_test)\n",
    "\n",
    "                tf.summary.scalar('mse_train', train_mse, step=step)\n",
    "                tf.summary.scalar('mse_test', test_mse, step=step)\n",
    "                tf.summary.scalar('learning_rate', K.get_value(optimizer.lr), step=step)\n",
    "                # plot_tracks(step=step)\n",
    "                \n",
    "                print(\"E\", end='')\n",
    "\n",
    "                tf.summary.scalar(METRIC_MSE, calculate_mse_test(model, dataset_test), step=1)\n",
    "                # model.save_weights(checkpoint_prefix.format(epoch=epoch))\n",
    "    print(\"\")\n",
    "    num_experiment += 1\n",
    "        \n",
    "    # clear after training\n",
    "    K.clear_session()  \n",
    "        \n"
   ]
  },
  {
   "cell_type": "markdown",
   "metadata": {
    "colab": {},
    "colab_type": "code",
    "id": "wBk4MAMLFqls"
   },
   "source": []
  }
 ],
 "metadata": {
  "accelerator": "GPU",
  "colab": {
   "collapsed_sections": [],
   "machine_shape": "hm",
   "name": "NextStep-RNN.ipynb",
   "provenance": [],
   "toc_visible": true
  },
  "kernelspec": {
   "display_name": "Python 3",
   "language": "python",
   "name": "python3"
  },
  "language_info": {
   "codemirror_mode": {
    "name": "ipython",
    "version": 3
   },
   "file_extension": ".py",
   "mimetype": "text/x-python",
   "name": "python",
   "nbconvert_exporter": "python",
   "pygments_lexer": "ipython3",
   "version": "3.6.8"
  }
 },
 "nbformat": 4,
 "nbformat_minor": 1
}
